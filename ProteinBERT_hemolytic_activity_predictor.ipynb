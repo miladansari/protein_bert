{
  "cells": [
    {
      "cell_type": "markdown",
      "metadata": {
        "id": "view-in-github",
        "colab_type": "text"
      },
      "source": [
        "<a href=\"https://colab.research.google.com/github/miladansari/protein_bert/blob/master/ProteinBERT_hemolytic_activity_predictor.ipynb\" target=\"_parent\"><img src=\"https://colab.research.google.com/assets/colab-badge.svg\" alt=\"Open In Colab\"/></a>"
      ]
    },
    {
      "cell_type": "code",
      "execution_count": null,
      "metadata": {
        "colab": {
          "base_uri": "https://localhost:8080/"
        },
        "id": "PdG75MbiRAdo",
        "outputId": "758f8504-0f3f-4eb9-c0e5-8d034fe9c399"
      },
      "outputs": [
        {
          "output_type": "stream",
          "name": "stdout",
          "text": [
            "[Errno 2] No such file or directory: 'drive/MyDrive/protein-bert/proteinbert/'\n",
            "/content/drive/MyDrive/protein-bert/proteinbert\n",
            "Looking in indexes: https://pypi.org/simple, https://us-python.pkg.dev/colab-wheels/public/simple/\n",
            "Collecting git+https://github.com/miladansari/protein_bert.git\n",
            "  Cloning https://github.com/miladansari/protein_bert.git to /tmp/pip-req-build-i6mqbxgp\n",
            "  Running command git clone --filter=blob:none --quiet https://github.com/miladansari/protein_bert.git /tmp/pip-req-build-i6mqbxgp\n",
            "  Resolved https://github.com/miladansari/protein_bert.git to commit 3a53892554067d6d32f46a1befe4013656c9d97d\n",
            "  Running command git submodule update --init --recursive -q\n",
            "  Preparing metadata (setup.py) ... \u001b[?25l\u001b[?25hdone\n",
            "Requirement already satisfied: tensorflow in /usr/local/lib/python3.9/dist-packages (from protein-bert==1.0.1) (2.11.0)\n",
            "Requirement already satisfied: tensorflow_addons in /usr/local/lib/python3.9/dist-packages (from protein-bert==1.0.1) (0.19.0)\n",
            "Requirement already satisfied: numpy in /usr/local/lib/python3.9/dist-packages (from protein-bert==1.0.1) (1.22.4)\n",
            "Requirement already satisfied: pandas in /usr/local/lib/python3.9/dist-packages (from protein-bert==1.0.1) (1.4.4)\n",
            "Requirement already satisfied: h5py in /usr/local/lib/python3.9/dist-packages (from protein-bert==1.0.1) (3.1.0)\n",
            "Requirement already satisfied: lxml in /usr/local/lib/python3.9/dist-packages (from protein-bert==1.0.1) (4.9.2)\n",
            "Requirement already satisfied: pyfaidx in /usr/local/lib/python3.9/dist-packages (from protein-bert==1.0.1) (0.7.2.1)\n",
            "Requirement already satisfied: pytz>=2020.1 in /usr/local/lib/python3.9/dist-packages (from pandas->protein-bert==1.0.1) (2022.7.1)\n",
            "Requirement already satisfied: python-dateutil>=2.8.1 in /usr/local/lib/python3.9/dist-packages (from pandas->protein-bert==1.0.1) (2.8.2)\n",
            "Requirement already satisfied: setuptools in /usr/local/lib/python3.9/dist-packages (from pyfaidx->protein-bert==1.0.1) (63.4.3)\n",
            "Requirement already satisfied: six in /usr/local/lib/python3.9/dist-packages (from pyfaidx->protein-bert==1.0.1) (1.15.0)\n",
            "Requirement already satisfied: google-pasta>=0.1.1 in /usr/local/lib/python3.9/dist-packages (from tensorflow->protein-bert==1.0.1) (0.2.0)\n",
            "Requirement already satisfied: protobuf<3.20,>=3.9.2 in /usr/local/lib/python3.9/dist-packages (from tensorflow->protein-bert==1.0.1) (3.19.6)\n",
            "Requirement already satisfied: typing-extensions>=3.6.6 in /usr/local/lib/python3.9/dist-packages (from tensorflow->protein-bert==1.0.1) (4.5.0)\n",
            "Requirement already satisfied: tensorboard<2.12,>=2.11 in /usr/local/lib/python3.9/dist-packages (from tensorflow->protein-bert==1.0.1) (2.11.2)\n",
            "Requirement already satisfied: tensorflow-io-gcs-filesystem>=0.23.1 in /usr/local/lib/python3.9/dist-packages (from tensorflow->protein-bert==1.0.1) (0.31.0)\n",
            "Requirement already satisfied: wrapt>=1.11.0 in /usr/local/lib/python3.9/dist-packages (from tensorflow->protein-bert==1.0.1) (1.15.0)\n",
            "Requirement already satisfied: tensorflow-estimator<2.12,>=2.11.0 in /usr/local/lib/python3.9/dist-packages (from tensorflow->protein-bert==1.0.1) (2.11.0)\n",
            "Requirement already satisfied: termcolor>=1.1.0 in /usr/local/lib/python3.9/dist-packages (from tensorflow->protein-bert==1.0.1) (2.2.0)\n",
            "Requirement already satisfied: grpcio<2.0,>=1.24.3 in /usr/local/lib/python3.9/dist-packages (from tensorflow->protein-bert==1.0.1) (1.51.3)\n",
            "Requirement already satisfied: absl-py>=1.0.0 in /usr/local/lib/python3.9/dist-packages (from tensorflow->protein-bert==1.0.1) (1.4.0)\n",
            "Requirement already satisfied: keras<2.12,>=2.11.0 in /usr/local/lib/python3.9/dist-packages (from tensorflow->protein-bert==1.0.1) (2.11.0)\n",
            "Requirement already satisfied: packaging in /usr/local/lib/python3.9/dist-packages (from tensorflow->protein-bert==1.0.1) (23.0)\n",
            "Requirement already satisfied: astunparse>=1.6.0 in /usr/local/lib/python3.9/dist-packages (from tensorflow->protein-bert==1.0.1) (1.6.3)\n",
            "Requirement already satisfied: gast<=0.4.0,>=0.2.1 in /usr/local/lib/python3.9/dist-packages (from tensorflow->protein-bert==1.0.1) (0.4.0)\n",
            "Requirement already satisfied: opt-einsum>=2.3.2 in /usr/local/lib/python3.9/dist-packages (from tensorflow->protein-bert==1.0.1) (3.3.0)\n",
            "Requirement already satisfied: flatbuffers>=2.0 in /usr/local/lib/python3.9/dist-packages (from tensorflow->protein-bert==1.0.1) (23.3.3)\n",
            "Requirement already satisfied: libclang>=13.0.0 in /usr/local/lib/python3.9/dist-packages (from tensorflow->protein-bert==1.0.1) (15.0.6.1)\n",
            "Requirement already satisfied: typeguard>=2.7 in /usr/local/lib/python3.9/dist-packages (from tensorflow_addons->protein-bert==1.0.1) (3.0.1)\n",
            "Requirement already satisfied: wheel<1.0,>=0.23.0 in /usr/local/lib/python3.9/dist-packages (from astunparse>=1.6.0->tensorflow->protein-bert==1.0.1) (0.40.0)\n",
            "Requirement already satisfied: markdown>=2.6.8 in /usr/local/lib/python3.9/dist-packages (from tensorboard<2.12,>=2.11->tensorflow->protein-bert==1.0.1) (3.4.1)\n",
            "Requirement already satisfied: google-auth-oauthlib<0.5,>=0.4.1 in /usr/local/lib/python3.9/dist-packages (from tensorboard<2.12,>=2.11->tensorflow->protein-bert==1.0.1) (0.4.6)\n",
            "Requirement already satisfied: tensorboard-plugin-wit>=1.6.0 in /usr/local/lib/python3.9/dist-packages (from tensorboard<2.12,>=2.11->tensorflow->protein-bert==1.0.1) (1.8.1)\n",
            "Requirement already satisfied: google-auth<3,>=1.6.3 in /usr/local/lib/python3.9/dist-packages (from tensorboard<2.12,>=2.11->tensorflow->protein-bert==1.0.1) (2.16.2)\n",
            "Requirement already satisfied: werkzeug>=1.0.1 in /usr/local/lib/python3.9/dist-packages (from tensorboard<2.12,>=2.11->tensorflow->protein-bert==1.0.1) (2.2.3)\n",
            "Requirement already satisfied: tensorboard-data-server<0.7.0,>=0.6.0 in /usr/local/lib/python3.9/dist-packages (from tensorboard<2.12,>=2.11->tensorflow->protein-bert==1.0.1) (0.6.1)\n",
            "Requirement already satisfied: requests<3,>=2.21.0 in /usr/local/lib/python3.9/dist-packages (from tensorboard<2.12,>=2.11->tensorflow->protein-bert==1.0.1) (2.25.1)\n",
            "Requirement already satisfied: importlib-metadata>=3.6 in /usr/local/lib/python3.9/dist-packages (from typeguard>=2.7->tensorflow_addons->protein-bert==1.0.1) (6.0.0)\n",
            "Requirement already satisfied: rsa<5,>=3.1.4 in /usr/local/lib/python3.9/dist-packages (from google-auth<3,>=1.6.3->tensorboard<2.12,>=2.11->tensorflow->protein-bert==1.0.1) (4.9)\n",
            "Requirement already satisfied: pyasn1-modules>=0.2.1 in /usr/local/lib/python3.9/dist-packages (from google-auth<3,>=1.6.3->tensorboard<2.12,>=2.11->tensorflow->protein-bert==1.0.1) (0.2.8)\n",
            "Requirement already satisfied: cachetools<6.0,>=2.0.0 in /usr/local/lib/python3.9/dist-packages (from google-auth<3,>=1.6.3->tensorboard<2.12,>=2.11->tensorflow->protein-bert==1.0.1) (5.3.0)\n",
            "Requirement already satisfied: requests-oauthlib>=0.7.0 in /usr/local/lib/python3.9/dist-packages (from google-auth-oauthlib<0.5,>=0.4.1->tensorboard<2.12,>=2.11->tensorflow->protein-bert==1.0.1) (1.3.1)\n",
            "Requirement already satisfied: zipp>=0.5 in /usr/local/lib/python3.9/dist-packages (from importlib-metadata>=3.6->typeguard>=2.7->tensorflow_addons->protein-bert==1.0.1) (3.15.0)\n",
            "Requirement already satisfied: certifi>=2017.4.17 in /usr/local/lib/python3.9/dist-packages (from requests<3,>=2.21.0->tensorboard<2.12,>=2.11->tensorflow->protein-bert==1.0.1) (2022.12.7)\n",
            "Requirement already satisfied: idna<3,>=2.5 in /usr/local/lib/python3.9/dist-packages (from requests<3,>=2.21.0->tensorboard<2.12,>=2.11->tensorflow->protein-bert==1.0.1) (2.10)\n",
            "Requirement already satisfied: chardet<5,>=3.0.2 in /usr/local/lib/python3.9/dist-packages (from requests<3,>=2.21.0->tensorboard<2.12,>=2.11->tensorflow->protein-bert==1.0.1) (4.0.0)\n",
            "Requirement already satisfied: urllib3<1.27,>=1.21.1 in /usr/local/lib/python3.9/dist-packages (from requests<3,>=2.21.0->tensorboard<2.12,>=2.11->tensorflow->protein-bert==1.0.1) (1.26.15)\n",
            "Requirement already satisfied: MarkupSafe>=2.1.1 in /usr/local/lib/python3.9/dist-packages (from werkzeug>=1.0.1->tensorboard<2.12,>=2.11->tensorflow->protein-bert==1.0.1) (2.1.2)\n",
            "Requirement already satisfied: pyasn1<0.5.0,>=0.4.6 in /usr/local/lib/python3.9/dist-packages (from pyasn1-modules>=0.2.1->google-auth<3,>=1.6.3->tensorboard<2.12,>=2.11->tensorflow->protein-bert==1.0.1) (0.4.8)\n",
            "Requirement already satisfied: oauthlib>=3.0.0 in /usr/local/lib/python3.9/dist-packages (from requests-oauthlib>=0.7.0->google-auth-oauthlib<0.5,>=0.4.1->tensorboard<2.12,>=2.11->tensorflow->protein-bert==1.0.1) (3.2.2)\n",
            "fatal: destination path 'shared_utils' already exists and is not an empty directory.\n",
            "The tensorboard extension is already loaded. To reload it, use:\n",
            "  %reload_ext tensorboard\n"
          ]
        },
        {
          "output_type": "stream",
          "name": "stderr",
          "text": [
            "WARNING:absl:`lr` is deprecated, please use `learning_rate` instead, or use the legacy optimizer, e.g.,tf.keras.optimizers.legacy.Adam.\n"
          ]
        },
        {
          "output_type": "stream",
          "name": "stdout",
          "text": [
            "102/102 [==============================] - 8s 30ms/step\n",
            "16/16 [==============================] - 0s 29ms/step\n",
            "Fit model on training data\n",
            "Epoch 1/50\n",
            "102/102 [==============================] - 3s 17ms/step - loss: 0.5730 - accuracy: 0.6978 - val_loss: 0.5465 - val_accuracy: 0.7301 - lr: 1.0000e-04\n",
            "Epoch 2/50\n",
            "102/102 [==============================] - 1s 10ms/step - loss: 0.4933 - accuracy: 0.7729 - val_loss: 0.5193 - val_accuracy: 0.7485 - lr: 1.0000e-04\n",
            "Epoch 3/50\n",
            "102/102 [==============================] - 1s 12ms/step - loss: 0.4620 - accuracy: 0.8018 - val_loss: 0.5080 - val_accuracy: 0.7546 - lr: 1.0000e-04\n",
            "Epoch 4/50\n",
            "102/102 [==============================] - 1s 10ms/step - loss: 0.4437 - accuracy: 0.8082 - val_loss: 0.4950 - val_accuracy: 0.7710 - lr: 1.0000e-04\n",
            "Epoch 5/50\n",
            "102/102 [==============================] - 1s 12ms/step - loss: 0.4323 - accuracy: 0.8153 - val_loss: 0.4841 - val_accuracy: 0.7812 - lr: 1.0000e-04\n",
            "Epoch 6/50\n",
            "102/102 [==============================] - 1s 11ms/step - loss: 0.4185 - accuracy: 0.8218 - val_loss: 0.4809 - val_accuracy: 0.7791 - lr: 1.0000e-04\n",
            "Epoch 7/50\n",
            "102/102 [==============================] - 1s 13ms/step - loss: 0.4082 - accuracy: 0.8304 - val_loss: 0.4833 - val_accuracy: 0.7689 - lr: 1.0000e-04\n",
            "Epoch 8/50\n",
            "102/102 [==============================] - 1s 14ms/step - loss: 0.4021 - accuracy: 0.8307 - val_loss: 0.4948 - val_accuracy: 0.7771 - lr: 1.0000e-04\n",
            "Epoch 9/50\n",
            "102/102 [==============================] - 2s 18ms/step - loss: 0.3940 - accuracy: 0.8378 - val_loss: 0.4746 - val_accuracy: 0.7996 - lr: 1.0000e-04\n",
            "Epoch 10/50\n",
            "102/102 [==============================] - 1s 13ms/step - loss: 0.3886 - accuracy: 0.8436 - val_loss: 0.4682 - val_accuracy: 0.7914 - lr: 1.0000e-04\n",
            "Epoch 11/50\n",
            "102/102 [==============================] - 1s 10ms/step - loss: 0.3802 - accuracy: 0.8452 - val_loss: 0.4659 - val_accuracy: 0.7832 - lr: 1.0000e-04\n",
            "Epoch 12/50\n",
            "102/102 [==============================] - 1s 14ms/step - loss: 0.3740 - accuracy: 0.8492 - val_loss: 0.4623 - val_accuracy: 0.7975 - lr: 1.0000e-04\n",
            "Epoch 13/50\n",
            "102/102 [==============================] - 1s 12ms/step - loss: 0.3704 - accuracy: 0.8520 - val_loss: 0.4630 - val_accuracy: 0.8057 - lr: 1.0000e-04\n",
            "Epoch 14/50\n",
            "102/102 [==============================] - 1s 10ms/step - loss: 0.3624 - accuracy: 0.8547 - val_loss: 0.4635 - val_accuracy: 0.8016 - lr: 1.0000e-04\n",
            "Epoch 15/50\n",
            "102/102 [==============================] - 1s 8ms/step - loss: 0.3586 - accuracy: 0.8575 - val_loss: 0.4631 - val_accuracy: 0.7914 - lr: 1.0000e-04\n",
            "Epoch 16/50\n",
            "102/102 [==============================] - 1s 8ms/step - loss: 0.3552 - accuracy: 0.8550 - val_loss: 0.4768 - val_accuracy: 0.7996 - lr: 1.0000e-04\n",
            "Epoch 17/50\n",
            "102/102 [==============================] - 1s 8ms/step - loss: 0.3500 - accuracy: 0.8590 - val_loss: 0.4590 - val_accuracy: 0.7914 - lr: 1.0000e-04\n",
            "Epoch 18/50\n",
            "102/102 [==============================] - 1s 7ms/step - loss: 0.3438 - accuracy: 0.8655 - val_loss: 0.4576 - val_accuracy: 0.7996 - lr: 1.0000e-04\n",
            "Epoch 19/50\n",
            "102/102 [==============================] - 1s 8ms/step - loss: 0.3438 - accuracy: 0.8637 - val_loss: 0.4558 - val_accuracy: 0.8119 - lr: 1.0000e-04\n",
            "Epoch 20/50\n",
            "102/102 [==============================] - 1s 7ms/step - loss: 0.3398 - accuracy: 0.8633 - val_loss: 0.4587 - val_accuracy: 0.7935 - lr: 1.0000e-04\n",
            "Epoch 21/50\n",
            "102/102 [==============================] - 1s 8ms/step - loss: 0.3371 - accuracy: 0.8667 - val_loss: 0.4579 - val_accuracy: 0.8078 - lr: 1.0000e-04\n",
            "Epoch 22/50\n",
            "102/102 [==============================] - 1s 9ms/step - loss: 0.3345 - accuracy: 0.8661 - val_loss: 0.4604 - val_accuracy: 0.8016 - lr: 1.0000e-04\n",
            "Epoch 23/50\n",
            "102/102 [==============================] - 1s 9ms/step - loss: 0.3308 - accuracy: 0.8655 - val_loss: 0.4577 - val_accuracy: 0.8016 - lr: 1.0000e-04\n",
            "Epoch 24/50\n",
            "102/102 [==============================] - 1s 10ms/step - loss: 0.3265 - accuracy: 0.8640 - val_loss: 0.4589 - val_accuracy: 0.8016 - lr: 1.0000e-04\n",
            "Epoch 25/50\n",
            "102/102 [==============================] - 1s 8ms/step - loss: 0.3157 - accuracy: 0.8741 - val_loss: 0.4585 - val_accuracy: 0.7975 - lr: 2.0000e-05\n",
            "Epoch 26/50\n",
            "102/102 [==============================] - 1s 8ms/step - loss: 0.3159 - accuracy: 0.8772 - val_loss: 0.4575 - val_accuracy: 0.7996 - lr: 2.0000e-05\n",
            "Epoch 27/50\n",
            "102/102 [==============================] - 1s 9ms/step - loss: 0.3145 - accuracy: 0.8753 - val_loss: 0.4576 - val_accuracy: 0.7996 - lr: 2.0000e-05\n",
            "Epoch 28/50\n",
            "102/102 [==============================] - 1s 11ms/step - loss: 0.3145 - accuracy: 0.8747 - val_loss: 0.4578 - val_accuracy: 0.8037 - lr: 2.0000e-05\n",
            "Epoch 29/50\n",
            "102/102 [==============================] - 1s 12ms/step - loss: 0.3130 - accuracy: 0.8753 - val_loss: 0.4558 - val_accuracy: 0.8078 - lr: 2.0000e-05\n",
            "Epoch 30/50\n",
            "102/102 [==============================] - 1s 11ms/step - loss: 0.3122 - accuracy: 0.8763 - val_loss: 0.4560 - val_accuracy: 0.7996 - lr: 1.0000e-05\n",
            "Epoch 31/50\n",
            "102/102 [==============================] - 1s 11ms/step - loss: 0.3118 - accuracy: 0.8775 - val_loss: 0.4559 - val_accuracy: 0.7996 - lr: 1.0000e-05\n",
            "Epoch 32/50\n",
            "102/102 [==============================] - 1s 12ms/step - loss: 0.3118 - accuracy: 0.8800 - val_loss: 0.4560 - val_accuracy: 0.8037 - lr: 1.0000e-05\n",
            "Epoch 33/50\n",
            "102/102 [==============================] - 1s 12ms/step - loss: 0.3114 - accuracy: 0.8763 - val_loss: 0.4574 - val_accuracy: 0.8016 - lr: 1.0000e-05\n",
            "Epoch 34/50\n",
            "102/102 [==============================] - 1s 13ms/step - loss: 0.3111 - accuracy: 0.8753 - val_loss: 0.4561 - val_accuracy: 0.7996 - lr: 1.0000e-05\n",
            "Epoch 35/50\n",
            "102/102 [==============================] - 2s 15ms/step - loss: 0.3105 - accuracy: 0.8775 - val_loss: 0.4561 - val_accuracy: 0.7996 - lr: 1.0000e-05\n",
            "Epoch 36/50\n",
            "102/102 [==============================] - 2s 16ms/step - loss: 0.3103 - accuracy: 0.8778 - val_loss: 0.4562 - val_accuracy: 0.7996 - lr: 1.0000e-05\n",
            "Epoch 37/50\n",
            "102/102 [==============================] - 1s 13ms/step - loss: 0.3102 - accuracy: 0.8797 - val_loss: 0.4559 - val_accuracy: 0.8016 - lr: 1.0000e-05\n",
            "Epoch 38/50\n",
            "102/102 [==============================] - 1s 11ms/step - loss: 0.3097 - accuracy: 0.8753 - val_loss: 0.4562 - val_accuracy: 0.7996 - lr: 1.0000e-05\n",
            "Epoch 39/50\n",
            "102/102 [==============================] - 1s 12ms/step - loss: 0.3097 - accuracy: 0.8790 - val_loss: 0.4559 - val_accuracy: 0.8016 - lr: 1.0000e-05\n",
            "Epoch 40/50\n",
            "102/102 [==============================] - 1s 9ms/step - loss: 0.3093 - accuracy: 0.8772 - val_loss: 0.4574 - val_accuracy: 0.7996 - lr: 1.0000e-05\n",
            "Epoch 41/50\n",
            "102/102 [==============================] - 1s 12ms/step - loss: 0.3094 - accuracy: 0.8809 - val_loss: 0.4564 - val_accuracy: 0.7996 - lr: 1.0000e-05\n",
            "Epoch 42/50\n",
            "102/102 [==============================] - 1s 10ms/step - loss: 0.3085 - accuracy: 0.8769 - val_loss: 0.4562 - val_accuracy: 0.7996 - lr: 1.0000e-05\n",
            "Epoch 43/50\n",
            "102/102 [==============================] - 1s 10ms/step - loss: 0.3085 - accuracy: 0.8793 - val_loss: 0.4561 - val_accuracy: 0.7996 - lr: 1.0000e-05\n",
            "Epoch 44/50\n",
            "102/102 [==============================] - 1s 11ms/step - loss: 0.3081 - accuracy: 0.8797 - val_loss: 0.4564 - val_accuracy: 0.8016 - lr: 1.0000e-05\n",
            "Epoch 45/50\n",
            "102/102 [==============================] - 1s 11ms/step - loss: 0.3079 - accuracy: 0.8790 - val_loss: 0.4560 - val_accuracy: 0.7975 - lr: 1.0000e-05\n",
            "Epoch 46/50\n",
            "102/102 [==============================] - 1s 15ms/step - loss: 0.3077 - accuracy: 0.8793 - val_loss: 0.4574 - val_accuracy: 0.7996 - lr: 1.0000e-05\n",
            "Epoch 47/50\n",
            "102/102 [==============================] - 1s 14ms/step - loss: 0.3070 - accuracy: 0.8787 - val_loss: 0.4557 - val_accuracy: 0.7996 - lr: 1.0000e-05\n",
            "Epoch 48/50\n",
            "102/102 [==============================] - 1s 13ms/step - loss: 0.3070 - accuracy: 0.8806 - val_loss: 0.4564 - val_accuracy: 0.8037 - lr: 1.0000e-05\n",
            "Epoch 49/50\n",
            "102/102 [==============================] - 1s 12ms/step - loss: 0.3065 - accuracy: 0.8800 - val_loss: 0.4563 - val_accuracy: 0.7975 - lr: 1.0000e-05\n",
            "Epoch 50/50\n",
            "102/102 [==============================] - 1s 11ms/step - loss: 0.3065 - accuracy: 0.8769 - val_loss: 0.4561 - val_accuracy: 0.7996 - lr: 1.0000e-05\n"
          ]
        }
      ],
      "source": [
        "%cd drive/MyDrive/protein-bert/proteinbert/\n",
        "\n",
        "\n",
        "!pip install git+'https://github.com/miladansari/protein_bert.git'\n",
        "!git clone https://github.com/nadavbra/shared_utils.git\n",
        "\n",
        "#import related libraries\n",
        "\n",
        "import numpy as np\n",
        "import tensorflow as tf\n",
        "from tensorflow import keras\n",
        "from tensorflow.keras.preprocessing.text import Tokenizer\n",
        "from tensorflow.keras import layers\n",
        "import matplotlib.pyplot as plt\n",
        "import datetime\n",
        "from pandas import read_csv\n",
        "%load_ext tensorboard\n",
        "\n",
        "\n",
        "#reading files.\n",
        "\n",
        "test = read_csv('/content/drive/MyDrive/protein-bert/BENCHMARK_DIR/hemolytic.test.csv',skipinitialspace=True)\n",
        "train = read_csv('/content/drive/MyDrive/protein-bert/BENCHMARK_DIR/hemolytic.train.csv',skipinitialspace=True)\n",
        "\n",
        "seqs=train['seq']\n",
        "seqs_test=test['seq']\n",
        "\n",
        "#set sequence length to 37 (the longest sequence in dataset is 35 and the model will add <start> and <end> token to the sequence.\n",
        "\n",
        "seq_len=37\n",
        "batch_size=32\n",
        "\n",
        "from proteinbert import load_pretrained_model\n",
        "from proteinbert.conv_and_global_attention_model import get_model_with_hidden_layers_as_outputs\n",
        "\n",
        "#load pretrained model.\n",
        "pretrained_model_generator, input_encoder = load_pretrained_model(local_model_dump_dir='/content/drive/MyDrive/protein-bert/proteinbert')\n",
        "model = get_model_with_hidden_layers_as_outputs(pretrained_model_generator.create_model(seq_len))\n",
        "\n",
        "#extract local representaion (Embeddings).\n",
        "X = input_encoder.encode_X(seqs, seq_len)\n",
        "local_representations, global_representations= model.predict(X, batch_size = batch_size)\n",
        "\n",
        "X_test= input_encoder.encode_X(seqs_test, seq_len)\n",
        "local_representations_test, global_representations_test= model.predict(X_test, batch_size = batch_size)\n",
        "\n",
        "#simple classifier\n",
        "model_D=tf.keras.models.Sequential([\n",
        "    tf.keras.layers.Flatten(input_shape = local_representations[0].shape),\n",
        "    tf.keras.layers.Dense(1, activation = 'sigmoid')])\n",
        "\n",
        "opt= tf.keras.optimizers.Adam(learning_rate=0.0001)\n",
        "model_D.compile(optimizer=opt, loss=tf.keras.losses.binary_crossentropy, metrics=[\"accuracy\"])\n",
        "#for tensorboard tracking ###\n",
        "#log_dir = \"logs/fit/\" + datetime.datetime.now().strftime(\"%Y%m%d-%H%M%S\")\n",
        "#tensorboard_callback = tf.keras.callbacks.TensorBoard(log_dir=log_dir, histogram_freq=1)\n",
        "\n",
        "print(\"Fit model on training data\")\n",
        "reduce_lr =tf.keras.callbacks.ReduceLROnPlateau(monitor='val_loss', factor=0.2,patience=5, min_lr=0.00001)\n",
        "history_D = model_D.fit(local_representations, train['label'], validation_data=(local_representations_test,test['label']), batch_size=32, epochs=50,callbacks=[reduce_lr])"
      ]
    },
    {
      "cell_type": "code",
      "execution_count": null,
      "metadata": {
        "id": "eWKCoXxbRaMG"
      },
      "outputs": [],
      "source": [
        "#%tensorboard --logdir logs/fit"
      ]
    },
    {
      "cell_type": "code",
      "source": [
        "local_representations.shape"
      ],
      "metadata": {
        "id": "gRSPOBhwiSgM",
        "colab": {
          "base_uri": "https://localhost:8080/"
        },
        "outputId": "7b385403-6646-4801-aa7a-ce06a8efdd8f"
      },
      "execution_count": null,
      "outputs": [
        {
          "output_type": "execute_result",
          "data": {
            "text/plain": [
              "(3249, 37, 1562)"
            ]
          },
          "metadata": {},
          "execution_count": 3
        }
      ]
    },
    {
      "cell_type": "code",
      "source": [
        "global_representations_test.shape"
      ],
      "metadata": {
        "colab": {
          "base_uri": "https://localhost:8080/"
        },
        "id": "dQXrQXT2HzXu",
        "outputId": "533f006c-a1ba-48b5-af24-8d73a27b3cf7"
      },
      "execution_count": null,
      "outputs": [
        {
          "output_type": "execute_result",
          "data": {
            "text/plain": [
              "(489, 15599)"
            ]
          },
          "metadata": {},
          "execution_count": 5
        }
      ]
    },
    {
      "cell_type": "code",
      "source": [
        "global_representations_test[1]"
      ],
      "metadata": {
        "colab": {
          "base_uri": "https://localhost:8080/"
        },
        "id": "EMp_rJ0mJVTt",
        "outputId": "be3f072c-f3f7-425f-a4e3-4f8862a4586e"
      },
      "execution_count": null,
      "outputs": [
        {
          "output_type": "execute_result",
          "data": {
            "text/plain": [
              "15599"
            ]
          },
          "metadata": {},
          "execution_count": 7
        }
      ]
    },
    {
      "cell_type": "code",
      "execution_count": null,
      "metadata": {
        "colab": {
          "base_uri": "https://localhost:8080/"
        },
        "id": "yjh6CxrYT7Xj",
        "outputId": "26fa0d2f-6401-40a7-d382-822c3ee9e77f"
      },
      "outputs": [
        {
          "output_type": "stream",
          "name": "stdout",
          "text": [
            "16/16 [==============================] - 0s 5ms/step\n",
            "tf.Tensor(\n",
            "[[234  46]\n",
            " [ 52 157]], shape=(2, 2), dtype=int32)\n"
          ]
        }
      ],
      "source": [
        "prediction=model_D.predict(local_representations_test[:,:,:])\n",
        "predictionz=[]\n",
        "for i in prediction:\n",
        "  if i >0.5:\n",
        "    predictionz.append(1)\n",
        "\n",
        "  else:\n",
        "    predictionz.append(0)\n",
        "\n",
        "confusion_matrix=tf.math.confusion_matrix(labels=test['label'],predictions=predictionz,num_classes=2)\n",
        "print(confusion_matrix)"
      ]
    },
    {
      "cell_type": "code",
      "execution_count": null,
      "metadata": {
        "colab": {
          "base_uri": "https://localhost:8080/",
          "height": 296
        },
        "id": "mgYLCfdvwI8M",
        "outputId": "a254a541-125a-478a-e932-7985cf2f1df8"
      },
      "outputs": [
        {
          "output_type": "execute_result",
          "data": {
            "text/plain": [
              "<matplotlib.lines.Line2D at 0x7f04381c4dc0>"
            ]
          },
          "metadata": {},
          "execution_count": 3
        },
        {
          "output_type": "display_data",
          "data": {
            "text/plain": [
              "<Figure size 432x288 with 1 Axes>"
            ],
            "image/png": "[encoded data removed]"
          },
          "metadata": {
            "needs_background": "light"
          }
        }
      ],
      "source": [
        "#plot the histogram of predictions on test set\n",
        "import matplotlib.pyplot as plt\n",
        "import pandas as pd\n",
        "plt.hist(prediction, bins=60, color='k')\n",
        "plt.xlabel('Probability')\n",
        "plt.ylabel('Count')\n",
        "plt.axvline(np.mean(prediction), color='r', linestyle='solid', linewidth=2)"
      ]
    },
    {
      "cell_type": "code",
      "execution_count": null,
      "metadata": {
        "colab": {
          "base_uri": "https://localhost:8080/",
          "height": 314
        },
        "id": "nDIYGl0qYbDw",
        "outputId": "56bf57ce-928d-4f2a-a472-6b4a1c31153c"
      },
      "outputs": [
        {
          "output_type": "stream",
          "name": "stderr",
          "text": [
            "WARNING:matplotlib.legend:No artists with labels found to put in legend.  Note that artists whose label start with an underscore are ignored when legend() is called with no argument.\n"
          ]
        },
        {
          "output_type": "execute_result",
          "data": {
            "text/plain": [
              "<matplotlib.legend.Legend at 0x7f75901675b0>"
            ]
          },
          "metadata": {},
          "execution_count": 4
        },
        {
          "output_type": "display_data",
          "data": {
            "text/plain": [
              "<Figure size 432x288 with 1 Axes>"
            ],
            "image/png": "[encoded data removed]"
          },
          "metadata": {
            "needs_background": "light"
          }
        }
      ],
      "source": [
        "pltz=[]\n",
        "for i in seqs_test:\n",
        "  pltz.append(len(i))\n",
        "plt.hist(pltz, color='k',bins=15)\n",
        "plt.xlabel('sequence length')\n",
        "plt.legend(title='test dataset')"
      ]
    },
    {
      "cell_type": "code",
      "execution_count": null,
      "metadata": {
        "id": "2i1_jL-oZQYX",
        "colab": {
          "base_uri": "https://localhost:8080/",
          "height": 314
        },
        "outputId": "2921c771-ead2-4ae8-e31c-23fb77ade57c"
      },
      "outputs": [
        {
          "output_type": "stream",
          "name": "stderr",
          "text": [
            "WARNING:matplotlib.legend:No artists with labels found to put in legend.  Note that artists whose label start with an underscore are ignored when legend() is called with no argument.\n"
          ]
        },
        {
          "output_type": "execute_result",
          "data": {
            "text/plain": [
              "<matplotlib.legend.Legend at 0x7f7590076b20>"
            ]
          },
          "metadata": {},
          "execution_count": 5
        },
        {
          "output_type": "display_data",
          "data": {
            "text/plain": [
              "<Figure size 432x288 with 1 Axes>"
            ],
            "image/png": "[encoded data removed]"
          },
          "metadata": {
            "needs_background": "light"
          }
        }
      ],
      "source": [
        "pltz=[]\n",
        "for i in seqs:\n",
        "  pltz.append(len(i))\n",
        "plt.hist(pltz, color='k',bins=15)\n",
        "plt.xlabel('sequence length')\n",
        "plt.legend(title='train dataset')"
      ]
    },
    {
      "cell_type": "code",
      "source": [
        "len(train[train['label']==0])"
      ],
      "metadata": {
        "colab": {
          "base_uri": "https://localhost:8080/"
        },
        "id": "dq3jt_ZzKw2d",
        "outputId": "d85222c6-08c0-499b-b046-67e81d66ca37"
      },
      "execution_count": null,
      "outputs": [
        {
          "output_type": "execute_result",
          "data": {
            "text/plain": [
              "1915"
            ]
          },
          "metadata": {},
          "execution_count": 19
        }
      ]
    },
    {
      "cell_type": "code",
      "execution_count": null,
      "metadata": {
        "id": "fAoenKZfjB7y",
        "colab": {
          "base_uri": "https://localhost:8080/"
        },
        "outputId": "99904b4e-b446-408d-cb56-8594f9ec40e0"
      },
      "outputs": [
        {
          "output_type": "stream",
          "name": "stdout",
          "text": [
            "1/1 [==============================] - 0s 253ms/step\n",
            "1/1 [==============================] - 0s 120ms/step\n",
            "2/2 [==============================] - 0s 28ms/step\n",
            "2/2 [==============================] - 0s 11ms/step\n",
            "2/2 [==============================] - 0s 35ms/step\n",
            "2/2 [==============================] - 0s 5ms/step\n",
            "2/2 [==============================] - 0s 32ms/step\n",
            "2/2 [==============================] - 0s 5ms/step\n",
            "2/2 [==============================] - 0s 28ms/step\n",
            "2/2 [==============================] - 0s 8ms/step\n",
            "2/2 [==============================] - 0s 30ms/step\n",
            "2/2 [==============================] - 0s 7ms/step\n",
            "2/2 [==============================] - 0s 30ms/step\n",
            "2/2 [==============================] - 0s 5ms/step\n",
            "2/2 [==============================] - 0s 27ms/step\n",
            "2/2 [==============================] - 0s 10ms/step\n",
            "2/2 [==============================] - 0s 24ms/step\n",
            "2/2 [==============================] - 0s 9ms/step\n",
            "2/2 [==============================] - 0s 40ms/step\n",
            "2/2 [==============================] - 0s 4ms/step\n",
            "2/2 [==============================] - 0s 25ms/step\n",
            "2/2 [==============================] - 0s 7ms/step\n",
            "2/2 [==============================] - 0s 35ms/step\n",
            "2/2 [==============================] - 0s 6ms/step\n",
            "2/2 [==============================] - 0s 16ms/step\n",
            "2/2 [==============================] - 0s 5ms/step\n",
            "2/2 [==============================] - 0s 15ms/step\n",
            "2/2 [==============================] - 0s 5ms/step\n",
            "2/2 [==============================] - 0s 16ms/step\n",
            "2/2 [==============================] - 0s 5ms/step\n",
            "2/2 [==============================] - 0s 15ms/step\n",
            "2/2 [==============================] - 0s 5ms/step\n",
            "2/2 [==============================] - 0s 17ms/step\n",
            "2/2 [==============================] - 0s 6ms/step\n",
            "2/2 [==============================] - 0s 15ms/step\n",
            "2/2 [==============================] - 0s 6ms/step\n"
          ]
        }
      ],
      "source": [
        "#on order\n",
        "import random\n",
        "from collections import defaultdict\n",
        "\n",
        "sequence = 'DEDEDEDEDEDEDEDEEDE' \n",
        "aminos = \"ACDEFGHIKLMNPQRSTVWY\"\n",
        "\n",
        "mutated_dictionary = defaultdict(list)\n",
        "\n",
        "\n",
        "start_pos = random.randint(0, len(sequence)-1)\n",
        "\n",
        "pool = [sequence]\n",
        "\n",
        "current_pos = start_pos \n",
        "\n",
        "for i in range(len(sequence)):\n",
        "    temp_pool = []\n",
        "    for seq in pool:\n",
        "        temp = list(seq)\n",
        "        for j in range(len(aminos)):\n",
        "            temp[current_pos] = aminos[j]\n",
        "            mutant = \"\".join(temp)\n",
        "            temp_pool.append(mutant)\n",
        "    X = input_encoder.encode_X(temp_pool, seq_len)\n",
        "    local_representations, global_representations_test = model.predict(X, batch_size = batch_size)\n",
        "    predi = model_D.predict(local_representations)\n",
        "    max_index = predi.argmax()\n",
        "    min_index = predi.argmin()\n",
        "    max_sequence = temp_pool[max_index]\n",
        "    min_sequence = temp_pool[min_index]\n",
        "   \n",
        "    mutated_dictionary[i].append(max_sequence)\n",
        "    mutated_dictionary[i].append(min_sequence)\n",
        "    \n",
        "    pool = [max_sequence, min_sequence]\n",
        "    current_pos = (current_pos + 1) % len(sequence)"
      ]
    },
    {
      "cell_type": "code",
      "execution_count": null,
      "metadata": {
        "id": "dxyAgWHBgI3i",
        "colab": {
          "base_uri": "https://localhost:8080/"
        },
        "outputId": "b6e8a724-4e48-42b1-c89d-6fb5e4c3d3e7"
      },
      "outputs": [
        {
          "output_type": "execute_result",
          "data": {
            "text/plain": [
              "15"
            ]
          },
          "metadata": {},
          "execution_count": 45
        }
      ],
      "source": [
        "len('WWWWWWWWWWWWWWW')"
      ]
    },
    {
      "cell_type": "code",
      "execution_count": null,
      "metadata": {
        "id": "oyuw_-AQ0L4i",
        "colab": {
          "base_uri": "https://localhost:8080/"
        },
        "outputId": "10b0ee92-8374-40ac-cec4-aa2b805e5e45"
      },
      "outputs": [
        {
          "output_type": "stream",
          "name": "stdout",
          "text": [
            "1/1 [==============================] - 0s 55ms/step\n",
            "1/1 [==============================] - 0s 38ms/step\n",
            "2/2 [==============================] - 0s 38ms/step\n",
            "2/2 [==============================] - 0s 9ms/step\n",
            "2/2 [==============================] - 0s 31ms/step\n",
            "2/2 [==============================] - 0s 6ms/step\n",
            "2/2 [==============================] - 0s 16ms/step\n",
            "2/2 [==============================] - 0s 5ms/step\n",
            "2/2 [==============================] - 0s 18ms/step\n",
            "2/2 [==============================] - 0s 6ms/step\n",
            "2/2 [==============================] - 0s 16ms/step\n",
            "2/2 [==============================] - 0s 9ms/step\n",
            "2/2 [==============================] - 0s 16ms/step\n",
            "2/2 [==============================] - 0s 6ms/step\n",
            "2/2 [==============================] - 0s 16ms/step\n",
            "2/2 [==============================] - 0s 6ms/step\n",
            "2/2 [==============================] - 0s 17ms/step\n",
            "2/2 [==============================] - 0s 6ms/step\n",
            "2/2 [==============================] - 0s 17ms/step\n",
            "2/2 [==============================] - 0s 6ms/step\n",
            "2/2 [==============================] - 0s 16ms/step\n",
            "2/2 [==============================] - 0s 7ms/step\n",
            "2/2 [==============================] - 0s 16ms/step\n",
            "2/2 [==============================] - 0s 6ms/step\n",
            "2/2 [==============================] - 0s 18ms/step\n",
            "2/2 [==============================] - 0s 6ms/step\n",
            "2/2 [==============================] - 0s 23ms/step\n",
            "2/2 [==============================] - 0s 8ms/step\n",
            "2/2 [==============================] - 0s 41ms/step\n",
            "2/2 [==============================] - 0s 9ms/step\n",
            "2/2 [==============================] - 0s 23ms/step\n",
            "2/2 [==============================] - 0s 5ms/step\n",
            "2/2 [==============================] - 0s 36ms/step\n",
            "2/2 [==============================] - 0s 5ms/step\n",
            "2/2 [==============================] - 0s 28ms/step\n",
            "2/2 [==============================] - 0s 7ms/step\n",
            "2/2 [==============================] - 0s 30ms/step\n",
            "2/2 [==============================] - 0s 9ms/step\n",
            "2/2 [==============================] - 0s 46ms/step\n",
            "2/2 [==============================] - 0s 6ms/step\n",
            "2/2 [==============================] - 0s 17ms/step\n",
            "2/2 [==============================] - 0s 6ms/step\n",
            "2/2 [==============================] - 0s 26ms/step\n",
            "2/2 [==============================] - 0s 10ms/step\n",
            "2/2 [==============================] - 0s 43ms/step\n",
            "2/2 [==============================] - 0s 12ms/step\n",
            "2/2 [==============================] - 0s 33ms/step\n",
            "2/2 [==============================] - 0s 8ms/step\n",
            "2/2 [==============================] - 0s 42ms/step\n",
            "2/2 [==============================] - 0s 9ms/step\n",
            "2/2 [==============================] - 0s 38ms/step\n",
            "2/2 [==============================] - 0s 7ms/step\n",
            "2/2 [==============================] - 0s 29ms/step\n",
            "2/2 [==============================] - 0s 9ms/step\n",
            "2/2 [==============================] - 0s 40ms/step\n",
            "2/2 [==============================] - 0s 8ms/step\n",
            "2/2 [==============================] - 0s 39ms/step\n",
            "2/2 [==============================] - 0s 6ms/step\n",
            "2/2 [==============================] - 0s 26ms/step\n",
            "2/2 [==============================] - 0s 9ms/step\n"
          ]
        }
      ],
      "source": [
        "###do 100 random posi\n",
        "import random\n",
        "from collections import defaultdict\n",
        "sequence = 'WWWWWWWWWWWWWWW' \n",
        "aminos = \"ACDEFGHIKLMNPQRSTVWY\"\n",
        "\n",
        "mutated_dictionary = defaultdict(list)\n",
        "\n",
        "# Start with the original sequence\n",
        "pool = [sequence]\n",
        "\n",
        "for i in range(30):\n",
        "    temp_pool = []\n",
        "    current_pos = random.randint(0,len(sequence)-1)\n",
        "    for seq in pool:\n",
        "        temp = list(seq)\n",
        "        for j in range(len(aminos)):\n",
        "            temp[current_pos] = aminos[j]\n",
        "            mutant = \"\".join(temp)\n",
        "            temp_pool.append(mutant)\n",
        "    X = input_encoder.encode_X(temp_pool, seq_len)\n",
        "    local_representations, global_representations_test = model.predict(X, batch_size = batch_size)\n",
        "    predi = model_D.predict(local_representations)\n",
        "    max_index = predi.argmax()\n",
        "    min_index = predi.argmin()\n",
        "    max_sequence = temp_pool[max_index]\n",
        "    min_sequence = temp_pool[min_index]\n",
        "    \n",
        "    mutated_dictionary[i].append(max_sequence)\n",
        "    mutated_dictionary[i].append(min_sequence)\n",
        "    \n",
        "    pool = [max_sequence, min_sequence]\n",
        "  ##add plot for predictions\n",
        "  ##try 10 times to see if it is the same each time\n",
        "  ##plpot seq logo for 10 ,50 ,100, to show the dynamics"
      ]
    },
    {
      "cell_type": "code",
      "execution_count": null,
      "metadata": {
        "colab": {
          "base_uri": "https://localhost:8080/",
          "height": 348
        },
        "id": "Gxbj_08Wq5QB",
        "outputId": "ef766c58-831e-4655-e3b2-8df69b6bca7d"
      },
      "outputs": [
        {
          "output_type": "stream",
          "name": "stdout",
          "text": [
            "1/1 [==============================] - 0s 154ms/step\n",
            "1/1 [==============================] - 0s 154ms/step\n",
            "1/1 [==============================] - 0s 140ms/step\n",
            "1/1 [==============================] - 0s 101ms/step\n"
          ]
        },
        {
          "output_type": "display_data",
          "data": {
            "text/plain": [
              "<Figure size 432x288 with 1 Axes>"
            ],
            "image/png": "[encoded data removed]"
          },
          "metadata": {
            "needs_background": "light"
          }
        }
      ],
      "source": [
        "#to plot changes in prediction\n",
        "high_values = [v[0] for v in mutated_dictionary.values()]\n",
        "low_values =  [v[1] for v in mutated_dictionary.values()]\n",
        "\n",
        "\n",
        "X = input_encoder.encode_X(high_values, seq_len)\n",
        "local_representations, global_representations_test = model.predict(X, batch_size = batch_size)\n",
        "predix = model_D.predict(local_representations)\n",
        "\n",
        "\n",
        "X = input_encoder.encode_X(low_values, seq_len)\n",
        "local_representations, global_representations_test = model.predict(X, batch_size = batch_size)\n",
        "predix_min = model_D.predict(local_representations)\n",
        "\n",
        "plt.scatter(range(30),predix ,label='Increasing' ,c='r')\n",
        "plt.scatter(range(30), predix_min,label='Decreasing', c='b')\n",
        "plt.xlabel('Mutation Step')\n",
        "plt.ylabel('Predicted Hemolytic Activity')\n",
        "plt.legend(title='org seq:WWWWWWWWWWWWWWW\\n predicted activity: 0.997')\n",
        "plt.show()"
      ]
    },
    {
      "cell_type": "code",
      "source": [
        "def create_files(sequence):\n",
        "    for i in range(10):\n",
        "        end = (i + 1) * 100 if i < 9 else len(sequence)\n",
        "        filename = f\"file_{i+1}.txt\"\n",
        "        with open(filename, \"w\") as file:\n",
        "            for j in range(end):\n",
        "                file.write(f\"{sequence[j]}\\n\")\n"
      ],
      "metadata": {
        "id": "rmLGTzNBcNdL"
      },
      "execution_count": null,
      "outputs": []
    },
    {
      "cell_type": "code",
      "source": [
        "create_files(low_values)\n"
      ],
      "metadata": {
        "id": "8cDZ7Crr_nVa"
      },
      "execution_count": null,
      "outputs": []
    },
    {
      "cell_type": "code",
      "source": [],
      "metadata": {
        "id": "llKWa0DQ_nSl",
        "colab": {
          "base_uri": "https://localhost:8080/"
        },
        "outputId": "9e75579a-8ac6-4c0c-9c07-f6b2f0ec74a0"
      },
      "execution_count": null,
      "outputs": [
        {
          "output_type": "stream",
          "name": "stdout",
          "text": [
            "/content/drive/MyDrive/Seq_logo\n"
          ]
        }
      ]
    },
    {
      "cell_type": "code",
      "source": [
        "%cd Seq_logo/\n"
      ],
      "metadata": {
        "id": "iKIdt_l9_nJQ",
        "colab": {
          "base_uri": "https://localhost:8080/"
        },
        "outputId": "a4eb8e98-7e1c-4964-9844-fc6e33c12b69"
      },
      "execution_count": null,
      "outputs": [
        {
          "output_type": "stream",
          "name": "stdout",
          "text": [
            "/content/drive/MyDrive/Seq_logo\n"
          ]
        }
      ]
    },
    {
      "cell_type": "code",
      "execution_count": null,
      "metadata": {
        "id": "uSn8Y2Qk9qkl"
      },
      "outputs": [],
      "source": []
    },
    {
      "cell_type": "code",
      "execution_count": null,
      "metadata": {
        "id": "TPoshmgyX1TH"
      },
      "outputs": [],
      "source": [
        "with open(\"max_30.txt\", \"w\") as f:\n",
        "  for i in mutated_dictionary.values():\n",
        "    f.write(i[0])\n",
        "    f.write(\"\\n\")"
      ]
    },
    {
      "cell_type": "code",
      "execution_count": null,
      "metadata": {
        "id": "_mrHbujiFoYp"
      },
      "outputs": [],
      "source": [
        "#for min\n",
        "with open(\"min_30.txt\", \"w\") as f:\n",
        "  for i in mutated_dictionary.values():\n",
        "    f.write(i[1])\n",
        "    f.write(\"\\n\")"
      ]
    },
    {
      "cell_type": "code",
      "execution_count": null,
      "metadata": {
        "colab": {
          "base_uri": "https://localhost:8080/"
        },
        "id": "hrVlY7SD_pZW",
        "outputId": "4d7c29b4-7d89-4800-f1d3-a1ae60cc3ff6"
      },
      "outputs": [
        {
          "output_type": "stream",
          "name": "stdout",
          "text": [
            "1/1 [==============================] - 0s 82ms/step\n",
            "1/1 [==============================] - 0s 20ms/step\n",
            "[[0.4441451]]\n"
          ]
        }
      ],
      "source": []
    },
    {
      "cell_type": "code",
      "execution_count": null,
      "metadata": {
        "colab": {
          "base_uri": "https://localhost:8080/"
        },
        "id": "d0yETrM8lR-D",
        "outputId": "165f648e-35d0-43c5-96d4-d011f683fc60"
      },
      "outputs": [
        {
          "output_type": "stream",
          "name": "stdout",
          "text": [
            "10/10 [==============================] - 0s 23ms/step\n",
            "10/10 [==============================] - 0s 9ms/step\n"
          ]
        }
      ],
      "source": [
        "\n",
        "sequence='QQQQQQQQQQQQQQQ' \n",
        "\n",
        "aminos=['A','G','I','L','P','V','F','W','Y','D','E','R','H','K','S','T','C','M','N','Q']  \n",
        "\n",
        "\n",
        "\n",
        "mutated_1=[]\n",
        "\n",
        "temp=list(sequence)\n",
        "for i in range(len(temp)):\n",
        "  for j in aminos:\n",
        "      temp=list(sequence)\n",
        "      temp[i]=j\n",
        "      mutated_1.append(\"\".join(temp))\n",
        "X= input_encoder.encode_X(mutated_1, seq_len)\n",
        "local_representations, global_representations_test= model.predict(X, batch_size = batch_size)\n",
        "\n",
        "p=model_D.predict(local_representations)\n"
      ]
    },
    {
      "cell_type": "code",
      "source": [
        "\n",
        "len(sequence)"
      ],
      "metadata": {
        "colab": {
          "base_uri": "https://localhost:8080/"
        },
        "id": "yVyZMVSvv0_k",
        "outputId": "be796c2e-1b2a-454e-8262-9c90a212d7cd"
      },
      "execution_count": null,
      "outputs": [
        {
          "output_type": "execute_result",
          "data": {
            "text/plain": [
              "15"
            ]
          },
          "metadata": {},
          "execution_count": 145
        }
      ]
    },
    {
      "cell_type": "code",
      "source": [
        "#prediction on original sequence\n",
        "picked=[sequence]\n",
        "\n",
        "X= input_encoder.encode_X(picked, seq_len)\n",
        "local_representations, global_representations_test= model.predict(X, batch_size = batch_size)\n",
        "\n",
        "pred=model_D.predict(local_representations)\n",
        "print(pred)\n",
        "wt_pred=pred[0][0]"
      ],
      "metadata": {
        "colab": {
          "base_uri": "https://localhost:8080/"
        },
        "id": "eNw98v0qGZNv",
        "outputId": "7319e039-006b-457e-8580-70b611355981"
      },
      "execution_count": null,
      "outputs": [
        {
          "output_type": "stream",
          "name": "stdout",
          "text": [
            "1/1 [==============================] - 0s 32ms/step\n",
            "1/1 [==============================] - 0s 23ms/step\n",
            "[[0.00168882]]\n"
          ]
        }
      ]
    },
    {
      "cell_type": "code",
      "execution_count": null,
      "metadata": {
        "colab": {
          "base_uri": "https://localhost:8080/",
          "height": 658
        },
        "id": "K2SNSv3zotxo",
        "outputId": "519cfa52-91e9-4479-a514-a09276889fd9"
      },
      "outputs": [
        {
          "output_type": "stream",
          "name": "stderr",
          "text": [
            "<ipython-input-147-16664b728470>:8: UserWarning: FixedFormatter should only be used together with FixedLocator\n",
            "  cax.axes.set_xticklabels(aminos)\n",
            "<ipython-input-147-16664b728470>:11: UserWarning: FixedFormatter should only be used together with FixedLocator\n",
            "  cax.axes.set_yticklabels(list(sequence))\n"
          ]
        },
        {
          "output_type": "display_data",
          "data": {
            "text/plain": [
              "<Figure size 1080x720 with 2 Axes>"
            ],
            "image/png": "[encoded data removed]"
          },
          "metadata": {
            "needs_background": "light"
          }
        }
      ],
      "source": [
        "#plot the result on matshow\n",
        "p=np.squeeze(p)\n",
        "m=p.reshape((len(sequence),20))\n",
        "\n",
        "\n",
        "plt.figure(figsize=(15,10))\n",
        "cax=plt.matshow(m-wt_pred, vmin=-0.5, vmax=0.5,cmap='bwr',fignum=1)\n",
        "cax.axes.set_xticklabels(aminos)\n",
        "cax.axes.set_xticks(np.arange(len(aminos)))\n",
        "\n",
        "cax.axes.set_yticklabels(list(sequence))\n",
        "cax.axes.set_yticks(np.arange(len(sequence)))\n",
        "\n",
        "\n",
        "plt.xlabel(\"mutation\")\n",
        "plt.ylabel(\"amino acid position\")\n",
        "plt.colorbar(label='change in predicted hemolyticness')\n",
        "plt.show() \n"
      ]
    },
    {
      "cell_type": "code",
      "execution_count": null,
      "metadata": {
        "id": "yFCwIMJhLSKQ"
      },
      "outputs": [],
      "source": [
        "#for low to high"
      ]
    },
    {
      "cell_type": "code",
      "execution_count": null,
      "metadata": {
        "id": "oxHLZO3uLSHq"
      },
      "outputs": [],
      "source": [
        "aminos=['A','C','D','E','F','G','H','I','K','L','M','N','P','Q','R','S','T','V','W','Y'] \n",
        "\n",
        "\n",
        "prediction=prediction.squeeze()\n",
        "prediction_list=(list(prediction))\n",
        "\n",
        "low_sequences=[]\n",
        "for i in prediction:\n",
        "  if  i <0.4:\n",
        "\n",
        "    index=prediction_list.index(i)\n",
        "    low_sequences.append(seqs_test[index])\n",
        "\n",
        "highest_value_mutated=[]\n",
        "\n",
        "\n",
        "for k in low_sequences:\n",
        "  mutated=[]\n",
        "  position=0\n",
        "  amino_acid=0\n",
        "  string=str(k)\n",
        "  temp=list(string)\n",
        "\n",
        "  for i in range(len(temp)):\n",
        "    for j in range(len(aminos)+1):\n",
        "\n",
        "      if amino_acid <= len(aminos)-1:\n",
        "        temp[position]=aminos[amino_acid]\n",
        "        stri = \"\".join(temp)  \n",
        "        mutated.append(stri)\n",
        "        amino_acid+=1\n",
        "      else:\n",
        "        position+=1\n",
        "        amino_acid=0\n",
        "        temp=list(string)\n",
        "        pass\n",
        "\n",
        "  X= input_encoder.encode_X(mutated, seq_len)\n",
        "  local_representations, global_representations_test= model.predict(X, batch_size = batch_size)\n",
        "  pre=model_D.predict(local_representations)\n",
        "\n",
        "  pre=pre.squeeze()\n",
        "  p_list=(list(pre))\n",
        "  highest_value_mutated.append(mutated[p_list.index(max(p_list))])\n",
        "  #lowest_value_mutated.append(mutated[p_list.index(min(p_list))])\n",
        "\n"
      ]
    },
    {
      "cell_type": "code",
      "execution_count": null,
      "metadata": {
        "id": "vIwWPrx2LSE4"
      },
      "outputs": [],
      "source": [
        "high_value_comparison=dict(zip(low_sequences, highest_value_mutated))"
      ]
    },
    {
      "cell_type": "code",
      "execution_count": null,
      "metadata": {
        "colab": {
          "base_uri": "https://localhost:8080/",
          "height": 315
        },
        "id": "FnXXDGiZLSCd",
        "outputId": "7525dbab-780c-496f-8e57-866b16af2eaa"
      },
      "outputs": [
        {
          "output_type": "stream",
          "name": "stderr",
          "text": [
            "WARNING:matplotlib.legend:No artists with labels found to put in legend.  Note that artists whose label start with an underscore are ignored when legend() is called with no argument.\n"
          ]
        },
        {
          "output_type": "execute_result",
          "data": {
            "text/plain": [
              "<matplotlib.legend.Legend at 0x7f7c0b51b100>"
            ]
          },
          "metadata": {},
          "execution_count": 29
        },
        {
          "output_type": "display_data",
          "data": {
            "text/plain": [
              "<Figure size 432x288 with 1 Axes>"
            ],
            "image/png": "[encoded data removed]"
          },
          "metadata": {
            "needs_background": "light"
          }
        }
      ],
      "source": [
        "#that amino acid which caused the highest increase\n",
        "\n",
        "increasing_AA=[]\n",
        "positionz=[]\n",
        "for k ,v in high_value_comparison.items():\n",
        "  for i in range(len(k)):\n",
        "    if k[i] != v[i]:\n",
        "      increasing_AA.append(v[i])\n",
        "      positionz.append(i)\n",
        "count_per_aminoacid_increase=[]\n",
        "for i in aminos:\n",
        "  count_per_aminoacid_increase.append(increasing_AA.count(i))\n",
        "\n",
        "\n",
        "plt.bar(aminos,count_per_aminoacid_increase, alpha=0.5, color='g')  \n",
        "plt.xlabel('amino acid')\n",
        "plt.ylabel('count')\n",
        "plt.legend(title='AA which caused significant increase')"
      ]
    },
    {
      "cell_type": "code",
      "source": [
        "plt.hist(positionz,bins=20,color='c')\n",
        "plt.xlabel('position')\n",
        "plt.ylabel('count')\n",
        "plt.legend(title='position which caused significant increase')"
      ],
      "metadata": {
        "colab": {
          "base_uri": "https://localhost:8080/",
          "height": 314
        },
        "id": "XLpqGpWphIcp",
        "outputId": "4ee5bcb5-58c9-4e45-97e2-72d7fd262f6a"
      },
      "execution_count": null,
      "outputs": [
        {
          "output_type": "stream",
          "name": "stderr",
          "text": [
            "WARNING:matplotlib.legend:No artists with labels found to put in legend.  Note that artists whose label start with an underscore are ignored when legend() is called with no argument.\n"
          ]
        },
        {
          "output_type": "execute_result",
          "data": {
            "text/plain": [
              "<matplotlib.legend.Legend at 0x7f7c0a385bb0>"
            ]
          },
          "metadata": {},
          "execution_count": 30
        },
        {
          "output_type": "display_data",
          "data": {
            "text/plain": [
              "<Figure size 432x288 with 1 Axes>"
            ],
            "image/png": "[encoded data removed]"
          },
          "metadata": {
            "needs_background": "light"
          }
        }
      ]
    },
    {
      "cell_type": "code",
      "source": [
        "#that amino acid which its substitution caused the highest increase\n",
        "increasing_AA=[]\n",
        "for k ,v in high_value_comparison.items():\n",
        "  for i in range(len(k)):\n",
        "    if k[i] != v[i]:\n",
        "      increasing_AA.append(k[i])\n",
        "count_per_aminoacid_increase=[]\n",
        "for i in aminos:\n",
        "  count_per_aminoacid_increase.append(increasing_AA.count(i))\n",
        "\n",
        "\n",
        "plt.bar(aminos,count_per_aminoacid_increase, alpha=0.5, color='r')  \n",
        "plt.xlabel('amino acid')\n",
        "plt.ylabel('count')\n",
        "plt.legend(title='substitution of this AA caused significant increase')"
      ],
      "metadata": {
        "colab": {
          "base_uri": "https://localhost:8080/",
          "height": 314
        },
        "id": "dZC5hiAuub6q",
        "outputId": "77a3f7d5-c255-4a7b-bb48-8e27eba35c00"
      },
      "execution_count": null,
      "outputs": [
        {
          "output_type": "stream",
          "name": "stderr",
          "text": [
            "WARNING:matplotlib.legend:No artists with labels found to put in legend.  Note that artists whose label start with an underscore are ignored when legend() is called with no argument.\n"
          ]
        },
        {
          "output_type": "execute_result",
          "data": {
            "text/plain": [
              "<matplotlib.legend.Legend at 0x7f7c0a1c4070>"
            ]
          },
          "metadata": {},
          "execution_count": 31
        },
        {
          "output_type": "display_data",
          "data": {
            "text/plain": [
              "<Figure size 432x288 with 1 Axes>"
            ],
            "image/png": "[encoded data removed]"
          },
          "metadata": {
            "needs_background": "light"
          }
        }
      ]
    },
    {
      "cell_type": "code",
      "execution_count": null,
      "metadata": {
        "id": "cQod6b34LR2-"
      },
      "outputs": [],
      "source": [
        "#for high to low\n",
        "\n",
        "prediction=prediction.squeeze()\n",
        "prediction_list=(list(prediction))\n",
        "\n",
        "high_sequences=[]\n",
        "for i in prediction:\n",
        "  if 0.6< i :\n",
        "\n",
        "    index=prediction_list.index(i)\n",
        "    high_sequences.append(seqs_test[index])\n",
        "\n",
        "# highest_value_mutated=[]\n",
        "lowest_value_mutated=[]\n",
        "\n",
        "for k in high_sequences:\n",
        "  mutated=[]\n",
        "  position=0\n",
        "  amino_acid=0\n",
        "  string=str(k)\n",
        "  temp=list(string)\n",
        "\n",
        "  for i in range(len(temp)):\n",
        "    for j in range(len(aminos)+1):\n",
        "\n",
        "      if amino_acid <= len(aminos)-1:\n",
        "        temp[position]=aminos[amino_acid]\n",
        "        stri = \"\".join(temp)  \n",
        "        mutated.append(stri)\n",
        "        amino_acid+=1\n",
        "      else:\n",
        "        position+=1\n",
        "        amino_acid=0\n",
        "        temp=list(string)\n",
        "        pass\n",
        "\n",
        "  #after each sequence get those mutated variants with highest and lowest value\n",
        "  X= input_encoder.encode_X(mutated, seq_len)\n",
        "  local_representations, global_representations_test= model.predict(X, batch_size = batch_size)\n",
        "  pre=model_D.predict(local_representations)\n",
        "\n",
        "  pre=pre.squeeze()\n",
        "  p_list=(list(pre))\n",
        "  #highest_value_mutated.append(mutated[p_list.index(max(p_list))])\n",
        "  lowest_value_mutated.append(mutated[p_list.index(min(p_list))])\n"
      ]
    },
    {
      "cell_type": "code",
      "execution_count": null,
      "metadata": {
        "id": "EXx22k7bRlB1"
      },
      "outputs": [],
      "source": [
        "low_value_comparison=dict(zip(high_sequences, lowest_value_mutated))"
      ]
    },
    {
      "cell_type": "code",
      "execution_count": null,
      "metadata": {
        "colab": {
          "base_uri": "https://localhost:8080/",
          "height": 314
        },
        "id": "CjwW_sGeRk3W",
        "outputId": "604cb0b4-0ca6-42b9-daee-8edfa1c6d9ae"
      },
      "outputs": [
        {
          "output_type": "stream",
          "name": "stderr",
          "text": [
            "WARNING:matplotlib.legend:No artists with labels found to put in legend.  Note that artists whose label start with an underscore are ignored when legend() is called with no argument.\n"
          ]
        },
        {
          "output_type": "execute_result",
          "data": {
            "text/plain": [
              "<matplotlib.legend.Legend at 0x7f7c0bbf07f0>"
            ]
          },
          "metadata": {},
          "execution_count": 20
        },
        {
          "output_type": "display_data",
          "data": {
            "text/plain": [
              "<Figure size 432x288 with 1 Axes>"
            ],
            "image/png": "[encoded data removed]"
          },
          "metadata": {
            "needs_background": "light"
          }
        }
      ],
      "source": [
        "#that amino acid which caused the highest decrease\n",
        "positionz=[]\n",
        "decreasing_AA=[]\n",
        "for k ,v in low_value_comparison.items():\n",
        "  for i in range(len(k)):\n",
        "    if k[i] != v[i]:\n",
        "      decreasing_AA.append(v[i])\n",
        "      positionz.append(i)\n",
        "count_per_aminoacid_decrease=[]\n",
        "for i in aminos:\n",
        "  count_per_aminoacid_decrease.append(decreasing_AA.count(i))\n",
        "\n",
        "\n",
        "plt.bar(aminos,count_per_aminoacid_decrease,alpha=0.5,color='b')\n",
        "plt.xlabel('amino acid')\n",
        "plt.ylabel('count')\n",
        "plt.legend(title='AA which caused significant decrease')"
      ]
    },
    {
      "cell_type": "code",
      "source": [
        "#that amino acid which it substitution caused the highest decrease\n",
        "\n",
        "decreasing_AA=[]\n",
        "for k ,v in low_value_comparison.items():\n",
        "  for i in range(len(k)):\n",
        "    if k[i] != v[i]:\n",
        "      decreasing_AA.append(k[i])\n",
        "count_per_aminoacid_decrease=[]\n",
        "for i in aminos:\n",
        "  count_per_aminoacid_decrease.append(decreasing_AA.count(i))\n",
        "\n",
        "\n",
        "plt.bar(aminos,count_per_aminoacid_decrease,alpha=0.5,color='y')\n",
        "plt.xlabel('amino acid')\n",
        "plt.ylabel('count')\n",
        "plt.legend(title='substitution of this AA caused significant decrease')"
      ],
      "metadata": {
        "colab": {
          "base_uri": "https://localhost:8080/",
          "height": 314
        },
        "id": "6KN1-XFXuzDF",
        "outputId": "a27bc7fc-520e-47f6-e393-30bdeb3cfc84"
      },
      "execution_count": null,
      "outputs": [
        {
          "output_type": "stream",
          "name": "stderr",
          "text": [
            "WARNING:matplotlib.legend:No artists with labels found to put in legend.  Note that artists whose label start with an underscore are ignored when legend() is called with no argument.\n"
          ]
        },
        {
          "output_type": "execute_result",
          "data": {
            "text/plain": [
              "<matplotlib.legend.Legend at 0x7f7c0bb0e2e0>"
            ]
          },
          "metadata": {},
          "execution_count": 21
        },
        {
          "output_type": "display_data",
          "data": {
            "text/plain": [
              "<Figure size 432x288 with 1 Axes>"
            ],
            "image/png": "[encoded data removed]"
          },
          "metadata": {
            "needs_background": "light"
          }
        }
      ]
    },
    {
      "cell_type": "code",
      "source": [
        "plt.hist(positionz,bins=20,color='m')\n",
        "plt.xlabel('position')\n",
        "plt.ylabel('count')\n",
        "plt.legend(title='positions which caused significant decrease')"
      ],
      "metadata": {
        "colab": {
          "base_uri": "https://localhost:8080/",
          "height": 314
        },
        "id": "68gC5KVGh8oQ",
        "outputId": "47716627-5aaa-487d-93d5-56b39186ad18"
      },
      "execution_count": null,
      "outputs": [
        {
          "output_type": "stream",
          "name": "stderr",
          "text": [
            "WARNING:matplotlib.legend:No artists with labels found to put in legend.  Note that artists whose label start with an underscore are ignored when legend() is called with no argument.\n"
          ]
        },
        {
          "output_type": "execute_result",
          "data": {
            "text/plain": [
              "<matplotlib.legend.Legend at 0x7f7c0b93c220>"
            ]
          },
          "metadata": {},
          "execution_count": 23
        },
        {
          "output_type": "display_data",
          "data": {
            "text/plain": [
              "<Figure size 432x288 with 1 Axes>"
            ],
            "image/png": "[encoded data removed]"
          },
          "metadata": {
            "needs_background": "light"
          }
        }
      ]
    },
    {
      "cell_type": "code",
      "execution_count": null,
      "metadata": {
        "colab": {
          "base_uri": "https://localhost:8080/"
        },
        "id": "Frk70NJUtR5z",
        "outputId": "d192f87c-2284-4bcb-b55b-408bccb87982"
      },
      "outputs": [
        {
          "output_type": "stream",
          "name": "stdout",
          "text": [
            "Looking in indexes: https://pypi.org/simple, https://us-python.pkg.dev/colab-wheels/public/simple/\n",
            "Collecting biopython\n",
            "  Downloading biopython-1.81-cp39-cp39-manylinux_2_17_x86_64.manylinux2014_x86_64.whl (3.1 MB)\n",
            "\u001b[2K     \u001b[90m━━━━━━━━━━━━━━━━━━━━━━━━━━━━━━━━━━━━━━━━\u001b[0m \u001b[32m3.1/3.1 MB\u001b[0m \u001b[31m35.0 MB/s\u001b[0m eta \u001b[36m0:00:00\u001b[0m\n",
            "\u001b[?25hRequirement already satisfied: numpy in /usr/local/lib/python3.9/dist-packages (from biopython) (1.22.4)\n",
            "Installing collected packages: biopython\n",
            "Successfully installed biopython-1.81\n"
          ]
        }
      ],
      "source": [
        "!pip install biopython\n",
        "from Bio.SeqUtils.ProtParam import ProteinAnalysis as PA"
      ]
    },
    {
      "cell_type": "code",
      "execution_count": null,
      "metadata": {
        "colab": {
          "base_uri": "https://localhost:8080/",
          "height": 279
        },
        "id": "haU_AYxdbIrB",
        "outputId": "e52942ff-cdd0-4c96-f49a-21b5984c6028"
      },
      "outputs": [
        {
          "output_type": "display_data",
          "data": {
            "text/plain": [
              "<Figure size 432x288 with 1 Axes>"
            ],
            "image/png": "[encoded data removed]"
          },
          "metadata": {
            "needs_background": "light"
          }
        }
      ],
      "source": [
        "#for all test sequences\n",
        "hydrophobicity_on_dataset=[]\n",
        "for i in test['seq']:\n",
        "  protein=PA(i)\n",
        "  hydrophobicity_on_dataset.append(protein.gravy())\n",
        "\n",
        "plt.scatter(prediction ,hydrophobicity_on_dataset, c='b')\n",
        "plt.xlabel('prediction')\n",
        "plt.ylabel('hydrophobicity')\n",
        "plt.show()"
      ]
    },
    {
      "cell_type": "code",
      "execution_count": null,
      "metadata": {
        "colab": {
          "base_uri": "https://localhost:8080/",
          "height": 265
        },
        "id": "JO5IIDRAgUGv",
        "outputId": "12e387a9-3b18-4616-c692-53ac78427d73"
      },
      "outputs": [
        {
          "output_type": "display_data",
          "data": {
            "text/plain": [
              "<Figure size 432x288 with 1 Axes>"
            ],
            "image/png": "[encoded data removed]"
          },
          "metadata": {
            "needs_background": "light"
          }
        }
      ],
      "source": [
        "############try to draw a line in the center of density so show the weigted mean is maybe\n",
        "\n",
        "import numpy as np\n",
        "import matplotlib.pyplot as plt\n",
        "from scipy.stats import gaussian_kde\n",
        "\n",
        "prediction=np.squeeze(prediction)\n",
        "x=np.array(hydrophobicity_on_dataset)\n",
        "y=np.array(prediction)\n",
        "\n",
        "# Calculate the point density\n",
        "xy = np.vstack([x,y])\n",
        "z = gaussian_kde(xy)(xy)\n",
        "\n",
        "# Sort the points by density, so that the densest points are plotted last\n",
        "idx = z.argsort()\n",
        "x, y, z = x[idx], y[idx], z[idx]\n",
        "\n",
        "fig, ax = plt.subplots()\n",
        "ax.scatter(x, y, c=z, s=50)\n",
        "plt.show()\n",
        "#change axis"
      ]
    },
    {
      "cell_type": "code",
      "execution_count": null,
      "metadata": {
        "id": "5nyfMBgKwZO2"
      },
      "outputs": [],
      "source": []
    },
    {
      "cell_type": "code",
      "execution_count": null,
      "metadata": {
        "id": "OKd62r6ijgSo"
      },
      "outputs": [],
      "source": [
        "prediction=prediction.squeeze()\n",
        "prediction_list=(list(prediction))\n",
        "dictionary=dict(zip(test['seq'], prediction_list))\n",
        "\n",
        "high_value_sequences=[]\n",
        "low_value_sequences=[]\n",
        "for k, v in dictionary.items():\n",
        "  if float(v) > 0.99:\n",
        "    high_value_sequences.append(k)    \n",
        "  elif float(v) < 0.01:\n",
        "    low_value_sequences.append(k)\n"
      ]
    },
    {
      "cell_type": "code",
      "execution_count": null,
      "metadata": {
        "colab": {
          "base_uri": "https://localhost:8080/"
        },
        "id": "itEihstZ7lT7",
        "outputId": "6daaa84f-e242-48be-f2da-250843242fb5"
      },
      "outputs": [
        {
          "data": {
            "text/plain": [
              "1"
            ]
          },
          "execution_count": 20,
          "metadata": {},
          "output_type": "execute_result"
        }
      ],
      "source": [
        "len(high_value_sequences)"
      ]
    },
    {
      "cell_type": "code",
      "execution_count": null,
      "metadata": {
        "colab": {
          "base_uri": "https://localhost:8080/"
        },
        "id": "blqIhnWl8_RY",
        "outputId": "976a36a0-dcd7-4fc5-9991-5bfd6e6ecad1"
      },
      "outputs": [
        {
          "data": {
            "text/plain": [
              "8"
            ]
          },
          "execution_count": 21,
          "metadata": {},
          "output_type": "execute_result"
        }
      ],
      "source": [
        "len(low_value_sequences)"
      ]
    },
    {
      "cell_type": "code",
      "execution_count": null,
      "metadata": {
        "id": "doUF8_-MMZ6E"
      },
      "outputs": [],
      "source": [
        "#prediction is a variable that has the predicted value for all the test set\n",
        "flexibility=[]\n",
        "hydrophobicity=[]\n",
        "aromaticity=[]\n",
        "charge=[]\n",
        "for i in test['seq']:\n",
        "  protein=PA(i)\n",
        "  #flexibility.append(protein.flexibility())\n",
        "  hydrophobicity.append(protein.gravy())\n",
        "  aromaticity.append(protein.aromaticity())\n",
        "  charge.append(protein.charge_at_pH(pH=7.4))\n",
        "\n",
        "\n",
        "\n",
        "import pandas as pd\n",
        "prediction=prediction.squeeze()\n",
        "prediction_list=(list(prediction))\n",
        "\n",
        "\n",
        "\n",
        "\n",
        "dataframe=pd.DataFrame({'Prediction': prediction_list ,\n",
        "                        'Ground truth': test['label'],\n",
        "                        'Hydrophobicity': hydrophobicity,\n",
        "                        'Aromaticity': aromaticity,\n",
        "                        'Charge': charge})\n"
      ]
    },
    {
      "cell_type": "code",
      "execution_count": null,
      "metadata": {
        "id": "BRqpCm1XPVDE",
        "colab": {
          "base_uri": "https://localhost:8080/",
          "height": 424
        },
        "outputId": "3646cb95-d83b-4cd6-f13c-ee39bc296820"
      },
      "outputs": [
        {
          "output_type": "execute_result",
          "data": {
            "text/plain": [
              "     Prediction  Ground truth  Hydrophobicity  Aromaticity    Charge\n",
              "0      0.816624             1        1.146154     0.153846  1.552442\n",
              "1      0.399595             0       -0.800000     0.357143  5.549861\n",
              "2      0.288548             0        0.713333     0.066667  2.549936\n",
              "3      0.580604             1       -1.762500     0.187500  6.557277\n",
              "4      0.709711             1        0.178571     0.071429  1.551057\n",
              "..          ...           ...             ...          ...       ...\n",
              "484    0.751294             1       -0.231818     0.136364  5.552316\n",
              "485    0.909006             1        1.138462     0.153846  0.554947\n",
              "486    0.029902             0       -2.445455     0.272727  5.554822\n",
              "487    0.684848             1       -0.372222     0.055556  6.581476\n",
              "488    0.061624             0       -2.391667     0.083333  7.549810\n",
              "\n",
              "[489 rows x 5 columns]"
            ],
            "text/html": [
              "\n",
              "  <div id=\"df-66243db5-3827-43e3-8517-a0a5315903bd\">\n",
              "    <div class=\"colab-df-container\">\n",
              "      <div>\n",
              "<style scoped>\n",
              "    .dataframe tbody tr th:only-of-type {\n",
              "        vertical-align: middle;\n",
              "    }\n",
              "\n",
              "    .dataframe tbody tr th {\n",
              "        vertical-align: top;\n",
              "    }\n",
              "\n",
              "    .dataframe thead th {\n",
              "        text-align: right;\n",
              "    }\n",
              "</style>\n",
              "<table border=\"1\" class=\"dataframe\">\n",
              "  <thead>\n",
              "    <tr style=\"text-align: right;\">\n",
              "      <th></th>\n",
              "      <th>Prediction</th>\n",
              "      <th>Ground truth</th>\n",
              "      <th>Hydrophobicity</th>\n",
              "      <th>Aromaticity</th>\n",
              "      <th>Charge</th>\n",
              "    </tr>\n",
              "  </thead>\n",
              "  <tbody>\n",
              "    <tr>\n",
              "      <th>0</th>\n",
              "      <td>0.816624</td>\n",
              "      <td>1</td>\n",
              "      <td>1.146154</td>\n",
              "      <td>0.153846</td>\n",
              "      <td>1.552442</td>\n",
              "    </tr>\n",
              "    <tr>\n",
              "      <th>1</th>\n",
              "      <td>0.399595</td>\n",
              "      <td>0</td>\n",
              "      <td>-0.800000</td>\n",
              "      <td>0.357143</td>\n",
              "      <td>5.549861</td>\n",
              "    </tr>\n",
              "    <tr>\n",
              "      <th>2</th>\n",
              "      <td>0.288548</td>\n",
              "      <td>0</td>\n",
              "      <td>0.713333</td>\n",
              "      <td>0.066667</td>\n",
              "      <td>2.549936</td>\n",
              "    </tr>\n",
              "    <tr>\n",
              "      <th>3</th>\n",
              "      <td>0.580604</td>\n",
              "      <td>1</td>\n",
              "      <td>-1.762500</td>\n",
              "      <td>0.187500</td>\n",
              "      <td>6.557277</td>\n",
              "    </tr>\n",
              "    <tr>\n",
              "      <th>4</th>\n",
              "      <td>0.709711</td>\n",
              "      <td>1</td>\n",
              "      <td>0.178571</td>\n",
              "      <td>0.071429</td>\n",
              "      <td>1.551057</td>\n",
              "    </tr>\n",
              "    <tr>\n",
              "      <th>...</th>\n",
              "      <td>...</td>\n",
              "      <td>...</td>\n",
              "      <td>...</td>\n",
              "      <td>...</td>\n",
              "      <td>...</td>\n",
              "    </tr>\n",
              "    <tr>\n",
              "      <th>484</th>\n",
              "      <td>0.751294</td>\n",
              "      <td>1</td>\n",
              "      <td>-0.231818</td>\n",
              "      <td>0.136364</td>\n",
              "      <td>5.552316</td>\n",
              "    </tr>\n",
              "    <tr>\n",
              "      <th>485</th>\n",
              "      <td>0.909006</td>\n",
              "      <td>1</td>\n",
              "      <td>1.138462</td>\n",
              "      <td>0.153846</td>\n",
              "      <td>0.554947</td>\n",
              "    </tr>\n",
              "    <tr>\n",
              "      <th>486</th>\n",
              "      <td>0.029902</td>\n",
              "      <td>0</td>\n",
              "      <td>-2.445455</td>\n",
              "      <td>0.272727</td>\n",
              "      <td>5.554822</td>\n",
              "    </tr>\n",
              "    <tr>\n",
              "      <th>487</th>\n",
              "      <td>0.684848</td>\n",
              "      <td>1</td>\n",
              "      <td>-0.372222</td>\n",
              "      <td>0.055556</td>\n",
              "      <td>6.581476</td>\n",
              "    </tr>\n",
              "    <tr>\n",
              "      <th>488</th>\n",
              "      <td>0.061624</td>\n",
              "      <td>0</td>\n",
              "      <td>-2.391667</td>\n",
              "      <td>0.083333</td>\n",
              "      <td>7.549810</td>\n",
              "    </tr>\n",
              "  </tbody>\n",
              "</table>\n",
              "<p>489 rows × 5 columns</p>\n",
              "</div>\n",
              "      <button class=\"colab-df-convert\" onclick=\"convertToInteractive('df-66243db5-3827-43e3-8517-a0a5315903bd')\"\n",
              "              title=\"Convert this dataframe to an interactive table.\"\n",
              "              style=\"display:none;\">\n",
              "        \n",
              "  <svg xmlns=\"http://www.w3.org/2000/svg\" height=\"24px\"viewBox=\"0 0 24 24\"\n",
              "       width=\"24px\">\n",
              "    <path d=\"M0 0h24v24H0V0z\" fill=\"none\"/>\n",
              "    <path d=\"M18.56 5.44l.94 2.06.94-2.06 2.06-.94-2.06-.94-.94-2.06-.94 2.06-2.06.94zm-11 1L8.5 8.5l.94-2.06 2.06-.94-2.06-.94L8.5 2.5l-.94 2.06-2.06.94zm10 10l.94 2.06.94-2.06 2.06-.94-2.06-.94-.94-2.06-.94 2.06-2.06.94z\"/><path d=\"M17.41 7.96l-1.37-1.37c-.4-.4-.92-.59-1.43-.59-.52 0-1.04.2-1.43.59L10.3 9.45l-7.72 7.72c-.78.78-.78 2.05 0 2.83L4 21.41c.39.39.9.59 1.41.59.51 0 1.02-.2 1.41-.59l7.78-7.78 2.81-2.81c.8-.78.8-2.07 0-2.86zM5.41 20L4 18.59l7.72-7.72 1.47 1.35L5.41 20z\"/>\n",
              "  </svg>\n",
              "      </button>\n",
              "      \n",
              "  <style>\n",
              "    .colab-df-container {\n",
              "      display:flex;\n",
              "      flex-wrap:wrap;\n",
              "      gap: 12px;\n",
              "    }\n",
              "\n",
              "    .colab-df-convert {\n",
              "      background-color: #E8F0FE;\n",
              "      border: none;\n",
              "      border-radius: 50%;\n",
              "      cursor: pointer;\n",
              "      display: none;\n",
              "      fill: #1967D2;\n",
              "      height: 32px;\n",
              "      padding: 0 0 0 0;\n",
              "      width: 32px;\n",
              "    }\n",
              "\n",
              "    .colab-df-convert:hover {\n",
              "      background-color: #E2EBFA;\n",
              "      box-shadow: 0px 1px 2px rgba(60, 64, 67, 0.3), 0px 1px 3px 1px rgba(60, 64, 67, 0.15);\n",
              "      fill: #174EA6;\n",
              "    }\n",
              "\n",
              "    [theme=dark] .colab-df-convert {\n",
              "      background-color: #3B4455;\n",
              "      fill: #D2E3FC;\n",
              "    }\n",
              "\n",
              "    [theme=dark] .colab-df-convert:hover {\n",
              "      background-color: #434B5C;\n",
              "      box-shadow: 0px 1px 3px 1px rgba(0, 0, 0, 0.15);\n",
              "      filter: drop-shadow(0px 1px 2px rgba(0, 0, 0, 0.3));\n",
              "      fill: #FFFFFF;\n",
              "    }\n",
              "  </style>\n",
              "\n",
              "      <script>\n",
              "        const buttonEl =\n",
              "          document.querySelector('#df-66243db5-3827-43e3-8517-a0a5315903bd button.colab-df-convert');\n",
              "        buttonEl.style.display =\n",
              "          google.colab.kernel.accessAllowed ? 'block' : 'none';\n",
              "\n",
              "        async function convertToInteractive(key) {\n",
              "          const element = document.querySelector('#df-66243db5-3827-43e3-8517-a0a5315903bd');\n",
              "          const dataTable =\n",
              "            await google.colab.kernel.invokeFunction('convertToInteractive',\n",
              "                                                     [key], {});\n",
              "          if (!dataTable) return;\n",
              "\n",
              "          const docLinkHtml = 'Like what you see? Visit the ' +\n",
              "            '<a target=\"_blank\" href=https://colab.research.google.com/notebooks/data_table.ipynb>data table notebook</a>'\n",
              "            + ' to learn more about interactive tables.';\n",
              "          element.innerHTML = '';\n",
              "          dataTable['output_type'] = 'display_data';\n",
              "          await google.colab.output.renderOutput(dataTable, element);\n",
              "          const docLink = document.createElement('div');\n",
              "          docLink.innerHTML = docLinkHtml;\n",
              "          element.appendChild(docLink);\n",
              "        }\n",
              "      </script>\n",
              "    </div>\n",
              "  </div>\n",
              "  "
            ]
          },
          "metadata": {},
          "execution_count": 8
        }
      ],
      "source": [
        "dataframe"
      ]
    },
    {
      "cell_type": "code",
      "execution_count": null,
      "metadata": {
        "colab": {
          "base_uri": "https://localhost:8080/",
          "height": 655
        },
        "id": "3m2rxmyFIHJu",
        "outputId": "ffe77640-4a5a-4d64-c7bc-6add801072b8"
      },
      "outputs": [
        {
          "output_type": "execute_result",
          "data": {
            "text/plain": [
              "     Prediction  Ground truth  Hydrophobicity  Aromaticity    Charge\n",
              "1      0.399595             0       -0.800000     0.357143  5.549861\n",
              "2      0.288548             0        0.713333     0.066667  2.549936\n",
              "6      0.108958             0        0.111111     0.000000  3.557352\n",
              "7      0.126865             0        0.020000     0.000000  4.537506\n",
              "8      0.085987             0       -0.570000     0.100000  4.508321\n",
              "..          ...           ...             ...          ...       ...\n",
              "475    0.157396             0       -0.880000     0.100000  4.544925\n",
              "479    0.011612             0       -1.393750     0.093750  3.588451\n",
              "481    0.341255             0        0.035294     0.176471  6.539914\n",
              "486    0.029902             0       -2.445455     0.272727  5.554822\n",
              "488    0.061624             0       -2.391667     0.083333  7.549810\n",
              "\n",
              "[231 rows x 5 columns]"
            ],
            "text/html": [
              "\n",
              "  <div id=\"df-4c2799f3-a25f-4319-abdc-59a0fd019c3f\">\n",
              "    <div class=\"colab-df-container\">\n",
              "      <div>\n",
              "<style scoped>\n",
              "    .dataframe tbody tr th:only-of-type {\n",
              "        vertical-align: middle;\n",
              "    }\n",
              "\n",
              "    .dataframe tbody tr th {\n",
              "        vertical-align: top;\n",
              "    }\n",
              "\n",
              "    .dataframe thead th {\n",
              "        text-align: right;\n",
              "    }\n",
              "</style>\n",
              "<table border=\"1\" class=\"dataframe\">\n",
              "  <thead>\n",
              "    <tr style=\"text-align: right;\">\n",
              "      <th></th>\n",
              "      <th>Prediction</th>\n",
              "      <th>Ground truth</th>\n",
              "      <th>Hydrophobicity</th>\n",
              "      <th>Aromaticity</th>\n",
              "      <th>Charge</th>\n",
              "    </tr>\n",
              "  </thead>\n",
              "  <tbody>\n",
              "    <tr>\n",
              "      <th>1</th>\n",
              "      <td>0.399595</td>\n",
              "      <td>0</td>\n",
              "      <td>-0.800000</td>\n",
              "      <td>0.357143</td>\n",
              "      <td>5.549861</td>\n",
              "    </tr>\n",
              "    <tr>\n",
              "      <th>2</th>\n",
              "      <td>0.288548</td>\n",
              "      <td>0</td>\n",
              "      <td>0.713333</td>\n",
              "      <td>0.066667</td>\n",
              "      <td>2.549936</td>\n",
              "    </tr>\n",
              "    <tr>\n",
              "      <th>6</th>\n",
              "      <td>0.108958</td>\n",
              "      <td>0</td>\n",
              "      <td>0.111111</td>\n",
              "      <td>0.000000</td>\n",
              "      <td>3.557352</td>\n",
              "    </tr>\n",
              "    <tr>\n",
              "      <th>7</th>\n",
              "      <td>0.126865</td>\n",
              "      <td>0</td>\n",
              "      <td>0.020000</td>\n",
              "      <td>0.000000</td>\n",
              "      <td>4.537506</td>\n",
              "    </tr>\n",
              "    <tr>\n",
              "      <th>8</th>\n",
              "      <td>0.085987</td>\n",
              "      <td>0</td>\n",
              "      <td>-0.570000</td>\n",
              "      <td>0.100000</td>\n",
              "      <td>4.508321</td>\n",
              "    </tr>\n",
              "    <tr>\n",
              "      <th>...</th>\n",
              "      <td>...</td>\n",
              "      <td>...</td>\n",
              "      <td>...</td>\n",
              "      <td>...</td>\n",
              "      <td>...</td>\n",
              "    </tr>\n",
              "    <tr>\n",
              "      <th>475</th>\n",
              "      <td>0.157396</td>\n",
              "      <td>0</td>\n",
              "      <td>-0.880000</td>\n",
              "      <td>0.100000</td>\n",
              "      <td>4.544925</td>\n",
              "    </tr>\n",
              "    <tr>\n",
              "      <th>479</th>\n",
              "      <td>0.011612</td>\n",
              "      <td>0</td>\n",
              "      <td>-1.393750</td>\n",
              "      <td>0.093750</td>\n",
              "      <td>3.588451</td>\n",
              "    </tr>\n",
              "    <tr>\n",
              "      <th>481</th>\n",
              "      <td>0.341255</td>\n",
              "      <td>0</td>\n",
              "      <td>0.035294</td>\n",
              "      <td>0.176471</td>\n",
              "      <td>6.539914</td>\n",
              "    </tr>\n",
              "    <tr>\n",
              "      <th>486</th>\n",
              "      <td>0.029902</td>\n",
              "      <td>0</td>\n",
              "      <td>-2.445455</td>\n",
              "      <td>0.272727</td>\n",
              "      <td>5.554822</td>\n",
              "    </tr>\n",
              "    <tr>\n",
              "      <th>488</th>\n",
              "      <td>0.061624</td>\n",
              "      <td>0</td>\n",
              "      <td>-2.391667</td>\n",
              "      <td>0.083333</td>\n",
              "      <td>7.549810</td>\n",
              "    </tr>\n",
              "  </tbody>\n",
              "</table>\n",
              "<p>231 rows × 5 columns</p>\n",
              "</div>\n",
              "      <button class=\"colab-df-convert\" onclick=\"convertToInteractive('df-4c2799f3-a25f-4319-abdc-59a0fd019c3f')\"\n",
              "              title=\"Convert this dataframe to an interactive table.\"\n",
              "              style=\"display:none;\">\n",
              "        \n",
              "  <svg xmlns=\"http://www.w3.org/2000/svg\" height=\"24px\"viewBox=\"0 0 24 24\"\n",
              "       width=\"24px\">\n",
              "    <path d=\"M0 0h24v24H0V0z\" fill=\"none\"/>\n",
              "    <path d=\"M18.56 5.44l.94 2.06.94-2.06 2.06-.94-2.06-.94-.94-2.06-.94 2.06-2.06.94zm-11 1L8.5 8.5l.94-2.06 2.06-.94-2.06-.94L8.5 2.5l-.94 2.06-2.06.94zm10 10l.94 2.06.94-2.06 2.06-.94-2.06-.94-.94-2.06-.94 2.06-2.06.94z\"/><path d=\"M17.41 7.96l-1.37-1.37c-.4-.4-.92-.59-1.43-.59-.52 0-1.04.2-1.43.59L10.3 9.45l-7.72 7.72c-.78.78-.78 2.05 0 2.83L4 21.41c.39.39.9.59 1.41.59.51 0 1.02-.2 1.41-.59l7.78-7.78 2.81-2.81c.8-.78.8-2.07 0-2.86zM5.41 20L4 18.59l7.72-7.72 1.47 1.35L5.41 20z\"/>\n",
              "  </svg>\n",
              "      </button>\n",
              "      \n",
              "  <style>\n",
              "    .colab-df-container {\n",
              "      display:flex;\n",
              "      flex-wrap:wrap;\n",
              "      gap: 12px;\n",
              "    }\n",
              "\n",
              "    .colab-df-convert {\n",
              "      background-color: #E8F0FE;\n",
              "      border: none;\n",
              "      border-radius: 50%;\n",
              "      cursor: pointer;\n",
              "      display: none;\n",
              "      fill: #1967D2;\n",
              "      height: 32px;\n",
              "      padding: 0 0 0 0;\n",
              "      width: 32px;\n",
              "    }\n",
              "\n",
              "    .colab-df-convert:hover {\n",
              "      background-color: #E2EBFA;\n",
              "      box-shadow: 0px 1px 2px rgba(60, 64, 67, 0.3), 0px 1px 3px 1px rgba(60, 64, 67, 0.15);\n",
              "      fill: #174EA6;\n",
              "    }\n",
              "\n",
              "    [theme=dark] .colab-df-convert {\n",
              "      background-color: #3B4455;\n",
              "      fill: #D2E3FC;\n",
              "    }\n",
              "\n",
              "    [theme=dark] .colab-df-convert:hover {\n",
              "      background-color: #434B5C;\n",
              "      box-shadow: 0px 1px 3px 1px rgba(0, 0, 0, 0.15);\n",
              "      filter: drop-shadow(0px 1px 2px rgba(0, 0, 0, 0.3));\n",
              "      fill: #FFFFFF;\n",
              "    }\n",
              "  </style>\n",
              "\n",
              "      <script>\n",
              "        const buttonEl =\n",
              "          document.querySelector('#df-4c2799f3-a25f-4319-abdc-59a0fd019c3f button.colab-df-convert');\n",
              "        buttonEl.style.display =\n",
              "          google.colab.kernel.accessAllowed ? 'block' : 'none';\n",
              "\n",
              "        async function convertToInteractive(key) {\n",
              "          const element = document.querySelector('#df-4c2799f3-a25f-4319-abdc-59a0fd019c3f');\n",
              "          const dataTable =\n",
              "            await google.colab.kernel.invokeFunction('convertToInteractive',\n",
              "                                                     [key], {});\n",
              "          if (!dataTable) return;\n",
              "\n",
              "          const docLinkHtml = 'Like what you see? Visit the ' +\n",
              "            '<a target=\"_blank\" href=https://colab.research.google.com/notebooks/data_table.ipynb>data table notebook</a>'\n",
              "            + ' to learn more about interactive tables.';\n",
              "          element.innerHTML = '';\n",
              "          dataTable['output_type'] = 'display_data';\n",
              "          await google.colab.output.renderOutput(dataTable, element);\n",
              "          const docLink = document.createElement('div');\n",
              "          docLink.innerHTML = docLinkHtml;\n",
              "          element.appendChild(docLink);\n",
              "        }\n",
              "      </script>\n",
              "    </div>\n",
              "  </div>\n",
              "  "
            ]
          },
          "metadata": {},
          "execution_count": 9
        }
      ],
      "source": [
        "#false positive\n",
        "dataframe[dataframe['Ground truth']==0].query('Prediction < 0.5')"
      ]
    },
    {
      "cell_type": "code",
      "source": [
        "test['seq'][349]"
      ],
      "metadata": {
        "colab": {
          "base_uri": "https://localhost:8080/",
          "height": 35
        },
        "id": "7WTfqO8psaQ6",
        "outputId": "e60784fe-86d0-45e8-8889-b5603460554a"
      },
      "execution_count": null,
      "outputs": [
        {
          "output_type": "execute_result",
          "data": {
            "text/plain": [
              "'FRIRVRVKWKLFKKI'"
            ],
            "application/vnd.google.colaboratory.intrinsic+json": {
              "type": "string"
            }
          },
          "metadata": {},
          "execution_count": 10
        }
      ]
    },
    {
      "cell_type": "code",
      "source": [
        "test['label'][349]"
      ],
      "metadata": {
        "colab": {
          "base_uri": "https://localhost:8080/"
        },
        "id": "mWklpO61sgFJ",
        "outputId": "0ccd953c-2c5d-4cb3-d670-92066ad5b348"
      },
      "execution_count": null,
      "outputs": [
        {
          "output_type": "execute_result",
          "data": {
            "text/plain": [
              "0"
            ]
          },
          "metadata": {},
          "execution_count": 11
        }
      ]
    },
    {
      "cell_type": "code",
      "execution_count": null,
      "metadata": {
        "colab": {
          "base_uri": "https://localhost:8080/",
          "height": 337
        },
        "id": "rWqTzu6eMvO9",
        "outputId": "86a44635-8993-4475-ecea-b0c49805d774"
      },
      "outputs": [
        {
          "output_type": "display_data",
          "data": {
            "text/plain": [
              "<Figure size 432x288 with 2 Axes>"
            ],
            "image/png": "[encoded data removed]"
          },
          "metadata": {
            "needs_background": "light"
          }
        }
      ],
      "source": [
        "corr = dataframe.corr()\n",
        "fig = plt.figure()\n",
        "ax = fig.add_subplot(111)\n",
        "\n",
        "cax = ax.matshow(corr,cmap='Blues', vmin=-1, vmax=1)\n",
        "fig.colorbar(cax)\n",
        "ticks = np.arange(0,len(dataframe.columns),1)\n",
        "ax.set_xticks(ticks)\n",
        "plt.xticks(rotation=90)\n",
        "ax.set_yticks(ticks)\n",
        "ax.set_xticklabels(dataframe.columns)\n",
        "ax.set_yticklabels(dataframe.columns)\n",
        "plt.show()"
      ]
    },
    {
      "cell_type": "code",
      "execution_count": null,
      "metadata": {
        "colab": {
          "base_uri": "https://localhost:8080/",
          "height": 206
        },
        "id": "Ddaw9UGNgbHK",
        "outputId": "ba83c677-38a4-4a0c-baec-428e52ac2212"
      },
      "outputs": [
        {
          "output_type": "execute_result",
          "data": {
            "text/plain": [
              "                prediction  ground truth  hydrophobicity  aromaticity  \\\n",
              "prediction        1.000000      0.634129        0.463790    -0.032761   \n",
              "ground truth      0.634129      1.000000        0.284078    -0.017800   \n",
              "hydrophobicity    0.463790      0.284078        1.000000    -0.426520   \n",
              "aromaticity      -0.032761     -0.017800       -0.426520     1.000000   \n",
              "charge           -0.108834     -0.082506       -0.411486     0.043961   \n",
              "\n",
              "                  charge  \n",
              "prediction     -0.108834  \n",
              "ground truth   -0.082506  \n",
              "hydrophobicity -0.411486  \n",
              "aromaticity     0.043961  \n",
              "charge          1.000000  "
            ],
            "text/html": [
              "\n",
              "  <div id=\"df-ef17a2bb-dc1c-4e2c-9898-e43f42c656ae\">\n",
              "    <div class=\"colab-df-container\">\n",
              "      <div>\n",
              "<style scoped>\n",
              "    .dataframe tbody tr th:only-of-type {\n",
              "        vertical-align: middle;\n",
              "    }\n",
              "\n",
              "    .dataframe tbody tr th {\n",
              "        vertical-align: top;\n",
              "    }\n",
              "\n",
              "    .dataframe thead th {\n",
              "        text-align: right;\n",
              "    }\n",
              "</style>\n",
              "<table border=\"1\" class=\"dataframe\">\n",
              "  <thead>\n",
              "    <tr style=\"text-align: right;\">\n",
              "      <th></th>\n",
              "      <th>prediction</th>\n",
              "      <th>ground truth</th>\n",
              "      <th>hydrophobicity</th>\n",
              "      <th>aromaticity</th>\n",
              "      <th>charge</th>\n",
              "    </tr>\n",
              "  </thead>\n",
              "  <tbody>\n",
              "    <tr>\n",
              "      <th>prediction</th>\n",
              "      <td>1.000000</td>\n",
              "      <td>0.634129</td>\n",
              "      <td>0.463790</td>\n",
              "      <td>-0.032761</td>\n",
              "      <td>-0.108834</td>\n",
              "    </tr>\n",
              "    <tr>\n",
              "      <th>ground truth</th>\n",
              "      <td>0.634129</td>\n",
              "      <td>1.000000</td>\n",
              "      <td>0.284078</td>\n",
              "      <td>-0.017800</td>\n",
              "      <td>-0.082506</td>\n",
              "    </tr>\n",
              "    <tr>\n",
              "      <th>hydrophobicity</th>\n",
              "      <td>0.463790</td>\n",
              "      <td>0.284078</td>\n",
              "      <td>1.000000</td>\n",
              "      <td>-0.426520</td>\n",
              "      <td>-0.411486</td>\n",
              "    </tr>\n",
              "    <tr>\n",
              "      <th>aromaticity</th>\n",
              "      <td>-0.032761</td>\n",
              "      <td>-0.017800</td>\n",
              "      <td>-0.426520</td>\n",
              "      <td>1.000000</td>\n",
              "      <td>0.043961</td>\n",
              "    </tr>\n",
              "    <tr>\n",
              "      <th>charge</th>\n",
              "      <td>-0.108834</td>\n",
              "      <td>-0.082506</td>\n",
              "      <td>-0.411486</td>\n",
              "      <td>0.043961</td>\n",
              "      <td>1.000000</td>\n",
              "    </tr>\n",
              "  </tbody>\n",
              "</table>\n",
              "</div>\n",
              "      <button class=\"colab-df-convert\" onclick=\"convertToInteractive('df-ef17a2bb-dc1c-4e2c-9898-e43f42c656ae')\"\n",
              "              title=\"Convert this dataframe to an interactive table.\"\n",
              "              style=\"display:none;\">\n",
              "        \n",
              "  <svg xmlns=\"http://www.w3.org/2000/svg\" height=\"24px\"viewBox=\"0 0 24 24\"\n",
              "       width=\"24px\">\n",
              "    <path d=\"M0 0h24v24H0V0z\" fill=\"none\"/>\n",
              "    <path d=\"M18.56 5.44l.94 2.06.94-2.06 2.06-.94-2.06-.94-.94-2.06-.94 2.06-2.06.94zm-11 1L8.5 8.5l.94-2.06 2.06-.94-2.06-.94L8.5 2.5l-.94 2.06-2.06.94zm10 10l.94 2.06.94-2.06 2.06-.94-2.06-.94-.94-2.06-.94 2.06-2.06.94z\"/><path d=\"M17.41 7.96l-1.37-1.37c-.4-.4-.92-.59-1.43-.59-.52 0-1.04.2-1.43.59L10.3 9.45l-7.72 7.72c-.78.78-.78 2.05 0 2.83L4 21.41c.39.39.9.59 1.41.59.51 0 1.02-.2 1.41-.59l7.78-7.78 2.81-2.81c.8-.78.8-2.07 0-2.86zM5.41 20L4 18.59l7.72-7.72 1.47 1.35L5.41 20z\"/>\n",
              "  </svg>\n",
              "      </button>\n",
              "      \n",
              "  <style>\n",
              "    .colab-df-container {\n",
              "      display:flex;\n",
              "      flex-wrap:wrap;\n",
              "      gap: 12px;\n",
              "    }\n",
              "\n",
              "    .colab-df-convert {\n",
              "      background-color: #E8F0FE;\n",
              "      border: none;\n",
              "      border-radius: 50%;\n",
              "      cursor: pointer;\n",
              "      display: none;\n",
              "      fill: #1967D2;\n",
              "      height: 32px;\n",
              "      padding: 0 0 0 0;\n",
              "      width: 32px;\n",
              "    }\n",
              "\n",
              "    .colab-df-convert:hover {\n",
              "      background-color: #E2EBFA;\n",
              "      box-shadow: 0px 1px 2px rgba(60, 64, 67, 0.3), 0px 1px 3px 1px rgba(60, 64, 67, 0.15);\n",
              "      fill: #174EA6;\n",
              "    }\n",
              "\n",
              "    [theme=dark] .colab-df-convert {\n",
              "      background-color: #3B4455;\n",
              "      fill: #D2E3FC;\n",
              "    }\n",
              "\n",
              "    [theme=dark] .colab-df-convert:hover {\n",
              "      background-color: #434B5C;\n",
              "      box-shadow: 0px 1px 3px 1px rgba(0, 0, 0, 0.15);\n",
              "      filter: drop-shadow(0px 1px 2px rgba(0, 0, 0, 0.3));\n",
              "      fill: #FFFFFF;\n",
              "    }\n",
              "  </style>\n",
              "\n",
              "      <script>\n",
              "        const buttonEl =\n",
              "          document.querySelector('#df-ef17a2bb-dc1c-4e2c-9898-e43f42c656ae button.colab-df-convert');\n",
              "        buttonEl.style.display =\n",
              "          google.colab.kernel.accessAllowed ? 'block' : 'none';\n",
              "\n",
              "        async function convertToInteractive(key) {\n",
              "          const element = document.querySelector('#df-ef17a2bb-dc1c-4e2c-9898-e43f42c656ae');\n",
              "          const dataTable =\n",
              "            await google.colab.kernel.invokeFunction('convertToInteractive',\n",
              "                                                     [key], {});\n",
              "          if (!dataTable) return;\n",
              "\n",
              "          const docLinkHtml = 'Like what you see? Visit the ' +\n",
              "            '<a target=\"_blank\" href=https://colab.research.google.com/notebooks/data_table.ipynb>data table notebook</a>'\n",
              "            + ' to learn more about interactive tables.';\n",
              "          element.innerHTML = '';\n",
              "          dataTable['output_type'] = 'display_data';\n",
              "          await google.colab.output.renderOutput(dataTable, element);\n",
              "          const docLink = document.createElement('div');\n",
              "          docLink.innerHTML = docLinkHtml;\n",
              "          element.appendChild(docLink);\n",
              "        }\n",
              "      </script>\n",
              "    </div>\n",
              "  </div>\n",
              "  "
            ]
          },
          "metadata": {},
          "execution_count": 36
        }
      ],
      "source": [
        "corr"
      ]
    },
    {
      "cell_type": "code",
      "execution_count": null,
      "metadata": {
        "id": "OFo041ZAgbkZ"
      },
      "outputs": [],
      "source": [
        "# Install TF-DF\n",
        "!pip install tensorflow tensorflow_decision_forests\n",
        "\n",
        "# Load TF-DF\n",
        "import tensorflow_decision_forests as tfdf\n",
        "import pandas as pd\n",
        "\n",
        "# Load a dataset in a Pandas dataframe.\n",
        "train_df = pd.read_csv(\"project/train.csv\")\n",
        "test_df = pd.read_csv(\"project/test.csv\")\n",
        "\n",
        "# Convert the dataset into a TensorFlow dataset.\n",
        "train_ds = tfdf.keras.pd_dataframe_to_tf_dataset(train_df, label=\"my_label\")\n",
        "test_ds = tfdf.keras.pd_dataframe_to_tf_dataset(test_df, label=\"my_label\")\n",
        "\n",
        "# Train a Random Forest model.\n",
        "model = tfdf.keras.RandomForestModel()\n",
        "model.fit(train_ds)\n",
        "\n",
        "# Summary of the model structure.\n",
        "model.summary()\n",
        "\n",
        "# Evaluate the model.\n",
        "model.evaluate(test_ds)\n",
        "\n",
        "# Export the model to a SavedModel.\n",
        "model.save(\"project/model\")"
      ]
    }
  ],
  "metadata": {
    "accelerator": "GPU",
    "colab": {
      "provenance": [],
      "mount_file_id": "1hHq97JwkWJjEXyA9tnEsz6PK-XHYHaQ3",
      "authorship_tag": "ABX9TyOXbmUYOMpWyiLJdw8PgUxT",
      "include_colab_link": true
    },
    "gpuClass": "standard",
    "kernelspec": {
      "display_name": "Python 3",
      "name": "python3"
    },
    "language_info": {
      "name": "python"
    }
  },
  "nbformat": 4,
  "nbformat_minor": 0
}